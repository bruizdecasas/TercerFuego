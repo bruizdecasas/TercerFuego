{
 "cells": [
  {
   "cell_type": "code",
   "execution_count": null,
   "metadata": {},
   "outputs": [],
   "source": [
    "from selenium import webdriver\n",
    "from webdriver_manager.chrome import ChromeDriverManager # sustituye al archivo\n",
    "from selenium.webdriver.chrome.options import Options # opciones de chrome\n",
    "from selenium.webdriver.common.by import By # By es para buscar por tag, clase, id...\n",
    "from selenium.webdriver.support.ui import WebDriverWait   # para meter esperaras\n",
    "from selenium.webdriver.support import expected_conditions as EC   # para esperar ciertos eventos\n",
    "from selenium.webdriver import ActionChains # para hacer acciones con el ratón\n",
    "from selenium.webdriver.support import expected_conditions as EC   # para esperar ciertos eventos\n",
    "from selenium.webdriver.chrome.service import Service\n",
    "import time\n",
    "import selenium.webdriver.common.keys as Keys # para simular teclas\n",
    "import pandas as pd"
   ]
  },
  {
   "cell_type": "code",
   "execution_count": null,
   "metadata": {},
   "outputs": [],
   "source": [
    "#Opciones de chrome\n",
    "opciones = webdriver.ChromeOptions()\n",
    "opciones.add_argument('--start-maximized')\n",
    "#opciones.add_argument('window-size=775,1400')\n",
    "opciones.add_argument('--disable-extensions')\n",
    "opciones.add_argument('--disable-blink-features=AutomationControlled')\n",
    "opciones.add_argument('--no-sandbox')\n",
    "opciones.add_experimental_option('useAutomationExtension', False)\n",
    "opciones.add_experimental_option('excludeSwitches', ['enable-automation'])\n",
    "\n",
    "opciones.add_argument('--incognito') # modo incognito\n",
    "opciones.add_argument(\"--headless\") #funciona sin abrir la página, funciona con menos recursos"
   ]
  },
  {
   "cell_type": "code",
   "execution_count": null,
   "metadata": {},
   "outputs": [],
   "source": [
    "url = 'https://www.marphil.com/'\n",
    "driver = webdriver.Chrome(options=opciones)\n",
    "driver.get(url)"
   ]
  },
  {
   "cell_type": "code",
   "execution_count": null,
   "metadata": {},
   "outputs": [],
   "source": [
    "#abro un desplegable donde voy a tener todas las categorías de la página\n",
    "driver.find_element(By.CLASS_NAME, \"elementor-menu-toggle\").click()"
   ]
  },
  {
   "cell_type": "code",
   "execution_count": null,
   "metadata": {},
   "outputs": [],
   "source": [
    "#busco las url de todas las categorías\n",
    "#así mismo no voy a guardara las url de las categorías que tengan subcategoría\n",
    "select = driver.find_element(By.ID, \"menu-2-20de7bc\")\n",
    "lista_categorias = []\n",
    "for i in range(2, 9):\n",
    "    cat = select.find_element(By.XPATH, f'//*[@id=\"menu-2-20de7bc\"]/li[{i}]')\n",
    "    lista_ul = cat.find_elements(By.TAG_NAME, \"ul\")\n",
    "    for ul in lista_ul:\n",
    "        lista_a = ul.find_elements(By.TAG_NAME, \"a\")\n",
    "        for href in lista_a:\n",
    "            if 'has-submenu' not in href.get_attribute('class'):\n",
    "                url_categoria = href.get_attribute(\"href\")\n",
    "                lista_categorias.append(url_categoria)\n",
    "\n",
    "lista_categorias"
   ]
  },
  {
   "cell_type": "code",
   "execution_count": null,
   "metadata": {},
   "outputs": [],
   "source": [
    "#una vez tengo la lista de las categorías, voy a recorrerla para obtener la información de cada producto\n",
    "#además, al obtener las url de cada subcategoría, éstas no tienen más de una página de productos, \n",
    "#por lo que me ahorro tener que pulsar en la página siguiente"
   ]
  },
  {
   "cell_type": "code",
   "execution_count": null,
   "metadata": {},
   "outputs": [],
   "source": [
    "# inicio un nuevo drive y una lista vacía en la que guardaré los productods\n",
    "driver2 = webdriver.Chrome(options=opciones)\n",
    "productos_marphil = []\n",
    "#recorro la lista de categorías\n",
    "for i in range(len(lista_categorias)):\n",
    "    #spliteo la url de la categoría para obtener la categoría, subcategoría y tipo (en el caso en el que tenga)\n",
    "    lista_cortada = lista_categorias[i].split(\"/\")\n",
    "    if len(lista_cortada) == 8:\n",
    "        categoria = lista_cortada[4]\n",
    "        subcategoria = lista_cortada[5]\n",
    "        tipo = lista_cortada[6]\n",
    "    elif len(lista_cortada) == 7:\n",
    "        categoria = lista_cortada[4]\n",
    "        subcategoria = lista_cortada[5]\n",
    "        tipo = \"no tiene\"\n",
    "    else:\n",
    "        print(f\"revisar: {lista_categorias[i]}\") #esto lo puse inicialmente por si daba algún fallo, pero no fue necesario\n",
    "    #hago la petición a la categoría\n",
    "    driver2.get(lista_categorias[i])\n",
    "    print(lista_categorias[i]) #printeo de control para saber por qué categoría voy\n",
    "    #almaceno todos los productos de la categoría para recorrerlos en una lista anidada\n",
    "    lista_productos = driver2.find_elements(By.CLASS_NAME, \"jet-listing-grid__item\")\n",
    "    for producto in lista_productos:\n",
    "        #almaceno la url del producto, su precio y su nombre\n",
    "        nombre_producto = producto.find_element(By.CLASS_NAME, \"jet-woo-builder-archive-product-title\")\n",
    "        url_producto = nombre_producto.find_element(By.TAG_NAME, \"a\").get_attribute(\"href\")\n",
    "        nombre = nombre_producto.text\n",
    "        precio = producto.find_element(By.CLASS_NAME, \"jet-woo-product-price\").text\n",
    "        #almaceno la información en un diccionario\n",
    "        producto_dicc = {\n",
    "            \"categoria\" : categoria,\n",
    "            \"subcategoria\" : subcategoria,\n",
    "            \"tipo\" : tipo,\n",
    "            \"nombre\" : nombre, \n",
    "            \"precio\" : precio,\n",
    "            \"url\" : url_producto,\n",
    "            \"tienda\" : \"Marphil\"\n",
    "        }\n",
    "        print(f\"añadido el producto: {nombre}\") #printeo de control para ver el producto que se ha almacenado\n",
    "        #apendeo los productos a la lista\n",
    "        productos_marphil.append(producto_dicc)\n",
    "    time.sleep(5)"
   ]
  },
  {
   "cell_type": "code",
   "execution_count": null,
   "metadata": {},
   "outputs": [],
   "source": [
    "# Crear un DataFrame con la lista de productos_info\n",
    "df_productos = pd.DataFrame(productos_marphil)\n",
    "\n",
    "# Guardar el DataFrame en un archivo CSV\n",
    "df_productos.to_csv(\"marphil.csv\", index=False)"
   ]
  },
  {
   "cell_type": "code",
   "execution_count": null,
   "metadata": {},
   "outputs": [],
   "source": []
  }
 ],
 "metadata": {
  "language_info": {
   "name": "python"
  }
 },
 "nbformat": 4,
 "nbformat_minor": 2
}
