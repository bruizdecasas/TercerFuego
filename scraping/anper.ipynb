{
 "cells": [
  {
   "cell_type": "code",
   "execution_count": null,
   "metadata": {},
   "outputs": [],
   "source": [
    "from selenium import webdriver\n",
    "from webdriver_manager.chrome import ChromeDriverManager # sustituye al archivo\n",
    "from selenium.webdriver.chrome.options import Options # opciones de chrome\n",
    "from selenium.webdriver.common.by import By # By es para buscar por tag, clase, id...\n",
    "from selenium.webdriver.support.ui import WebDriverWait   # para meter esperaras\n",
    "from selenium.webdriver.support import expected_conditions as EC   # para esperar ciertos eventos\n",
    "from selenium.webdriver import ActionChains # para hacer acciones con el ratón\n",
    "from selenium.webdriver.support import expected_conditions as EC   # para esperar ciertos eventos\n",
    "from selenium.webdriver.chrome.service import Service\n",
    "import time\n",
    "import selenium.webdriver.common.keys as Keys # para simular teclas\n",
    "import pandas as pd"
   ]
  },
  {
   "cell_type": "code",
   "execution_count": null,
   "metadata": {},
   "outputs": [],
   "source": [
    "#Opciones de chrome\n",
    "opciones = webdriver.ChromeOptions()\n",
    "opciones.add_argument('--start-maximized')\n",
    "opciones.add_argument('--disable-extensions')\n",
    "opciones.add_argument('--disable-blink-features=AutomationControlled')\n",
    "opciones.add_argument('--no-sandbox')\n",
    "opciones.add_experimental_option('useAutomationExtension', False)\n",
    "opciones.add_experimental_option('excludeSwitches', ['enable-automation'])\n",
    "opciones.add_argument(\"--headless\")\n",
    "\n",
    "# guardar las cookies\n",
    "opciones.add_argument('--incognito') # modo incognito\n",
    "user_agent = 'Mozilla/5.0 (Windows NT 10.0; Win64; x64) AppleWebKit/537.36 (KHTML, like Gecko) Chrome/112.0.0.0 Safari/537.36'"
   ]
  },
  {
   "cell_type": "code",
   "execution_count": null,
   "metadata": {},
   "outputs": [],
   "source": [
    "url = \"https://anper.net/productos/destacados\"\n",
    "driver = webdriver.Chrome(options=opciones)\n",
    "driver.get(url)"
   ]
  },
  {
   "cell_type": "code",
   "execution_count": null,
   "metadata": {},
   "outputs": [],
   "source": [
    "# recojo todos los elementos de la lista de categorias\n",
    "# guardo solamente aquellas que no tienen \"collapse\" en la url, ya que me llevan a menús repetidos\n",
    "selector = driver.find_element(By.ID, \"accordion\")\n",
    "lista = selector.find_elements(By.TAG_NAME, \"a\")\n",
    "lista_limpia = []\n",
    "for e in lista:\n",
    "    enlace = e.get_attribute(\"href\")\n",
    "    if \"collapse\" in enlace:\n",
    "       print(f\"{enlace} eliminado\")\n",
    "    else:\n",
    "       lista_limpia.append(e.get_attribute(\"href\"))"
   ]
  },
  {
   "cell_type": "code",
   "execution_count": null,
   "metadata": {},
   "outputs": [],
   "source": [
    "#defino el driver e inicializo la lista donde voy a guardar los productos\n",
    "\n",
    "driver2 = webdriver.Chrome(options=opciones)\n",
    "productos_anper = []\n",
    "#recorro la lista de categorías para acceder a cada producto\n",
    "for e in lista_limpia:\n",
    "    #inicializo el driver y recojo los productos de la página en una lista\n",
    "    print(e)\n",
    "    driver2.get(e)\n",
    "    lista_productos = driver2.find_elements(By.CLASS_NAME, \"item.equalheight\")\n",
    "    #recorro la lista de productos para coger la información que necesito de cada producto\n",
    "    for i in range(len(lista_productos)):\n",
    "        try:\n",
    "            #recojo la lista de los productos de cada página\n",
    "            lista_productos = driver2.find_elements(By.CLASS_NAME, \"item.equalheight\")\n",
    "            #guardo el atributo href y hago click en cada producto para acceder a las características\n",
    "            url_producto = lista_productos[i].find_element(By.TAG_NAME, \"a\").get_attribute(\"href\")\n",
    "            try: \n",
    "                lista_productos[i].find_element(By.TAG_NAME, \"a\").click()\n",
    "            except:\n",
    "                driver2.find_element(By.CLASS_NAME, \"cc-cookie-accept\").click() \n",
    "                lista_productos[i].find_element(By.TAG_NAME, \"a\").click()\n",
    "            #intento recoger la categoría y el nombre de los breadcrumbs, \n",
    "            # algunas veces da fallo, así que lo recojo de la url de cada producto\n",
    "            try: \n",
    "                breadcrumb = driver2.find_element(By.XPATH, '//*[@id=\"product\"]/div/div[1]/div').text\n",
    "                lista_breadcrumb = breadcrumb.split(\" > \")\n",
    "            \n",
    "                if len(lista_breadcrumb) == 4:\n",
    "                    categoria = lista_breadcrumb[1]\n",
    "                    subcategoria = lista_breadcrumb[2]\n",
    "                    nombre = lista_breadcrumb[3]\n",
    "                else:\n",
    "                    categoria = lista_breadcrumb[1]\n",
    "                    subcategoria = \"no tiene\"\n",
    "                    nombre = lista_breadcrumb[2]\n",
    "            except:\n",
    "                url_lista = url_producto.split(\"/\")\n",
    "                categoria = url_lista[-2]\n",
    "                subcategoria= \"no tiene\"\n",
    "                nombre = url_lista[-1]\n",
    "\n",
    "            #recojo el precio, en productos en los que tengo varios precios, \n",
    "            # guardo la lista y lo tratará en el proceso de limpieza\n",
    "            try: \n",
    "                precio = driver2.find_element(By.CLASS_NAME, \"price\").text\n",
    "            except:\n",
    "                precio = driver2.find_element(By.CLASS_NAME, \"selectrOptions\").text\n",
    "\n",
    "            descripcion = driver2.find_element(By.CLASS_NAME, \"text\").text\n",
    "            # lo almaceno todo en un diccionario\n",
    "            producto_dicc ={\n",
    "                \"categoria\" : categoria,\n",
    "                \"subcategoria\" : subcategoria,\n",
    "                \"nombre\" : nombre,\n",
    "                \"precio\" : precio,\n",
    "                \"url\" : url_producto,\n",
    "                \"descripcion\" : descripcion,\n",
    "                \"tienda\" : \"Anper\"\n",
    "            }\n",
    "            #almaceno cada diccionario en la lista antes de volver atrás para almacenar el siguiente producto\n",
    "            productos_anper.append(producto_dicc)\n",
    "            time.sleep(2)\n",
    "            driver2.back()\n",
    "        except: \n",
    "            print(f'el producto: {url_producto} da error')"
   ]
  },
  {
   "cell_type": "code",
   "execution_count": null,
   "metadata": {},
   "outputs": [],
   "source": [
    "# Crear un DataFrame con la lista de productos_info\n",
    "df_productos = pd.DataFrame(productos_anper)\n",
    "\n",
    "# Guardar el DataFrame en un archivo CSV\n",
    "df_productos.to_csv(\"anper.csv\", index=False)"
   ]
  }
 ],
 "metadata": {
  "language_info": {
   "name": "python"
  }
 },
 "nbformat": 4,
 "nbformat_minor": 2
}
