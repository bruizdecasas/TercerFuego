{
 "cells": [
  {
   "cell_type": "code",
   "execution_count": 2,
   "metadata": {},
   "outputs": [],
   "source": [
    "import pandas as pd\n",
    "import numpy as np"
   ]
  },
  {
   "cell_type": "code",
   "execution_count": 3,
   "metadata": {},
   "outputs": [],
   "source": [
    "df = pd.read_csv(\"anper.csv\")"
   ]
  },
  {
   "cell_type": "code",
   "execution_count": null,
   "metadata": {},
   "outputs": [],
   "source": [
    "df"
   ]
  },
  {
   "cell_type": "code",
   "execution_count": null,
   "metadata": {},
   "outputs": [],
   "source": [
    "#la categoría Libros la pasamos a Libros y cursos, dejando Libros en la subcategoría\n",
    "df.loc[df.categoria == \"Libros\", \"subcategoria\"] = \"Libros\"\n",
    "df.loc[df.categoria == \"Libros\", \"categoria\"] = 'Libros y cursos'"
   ]
  },
  {
   "cell_type": "code",
   "execution_count": null,
   "metadata": {},
   "outputs": [],
   "source": [
    "#las categorías de Arcillas las ponemos como subcategorías pertenientes a \"Arcillas\"\n",
    "df.loc[df.categoria == \"Arcilla Alta temperatura\", \"subcategoria\"] = \"Arcillas alta temperatura\"\n",
    "df.loc[df.categoria == \"Arcilla Alta temperatura\", \"categoria\"] = 'Arcillas'\n",
    "\n",
    "df.loc[df.categoria == \"Arcilla Baja temperatura\", \"subcategoria\"] = \"Arcillas alta temperatura\"\n",
    "df.loc[df.categoria == \"Arcilla Baja temperatura\", \"categoria\"] = 'Arcillas'"
   ]
  },
  {
   "cell_type": "code",
   "execution_count": null,
   "metadata": {},
   "outputs": [],
   "source": [
    "df.loc[df.categoria == \"Baldosas\", \"subcategoria\"] = \"Azulejos\"\n",
    "df.loc[df.categoria == \"Baldosas\", \"categoria\"] = 'tercer-fuego'\n",
    "df.loc[df.categoria == \"3er Fuego\", \"categoria\"] = 'tercer-fuego'"
   ]
  },
  {
   "cell_type": "code",
   "execution_count": null,
   "metadata": {},
   "outputs": [],
   "source": [
    "df.loc[df.categoria == \"Construcción de hornos\", \"categoria\"] = 'Horno'\n",
    "df.loc[df.categoria == \"Materiales para hornear\", \"subcategoria\"] = \"Material de estibado para el horno\"\n",
    "df.loc[df.categoria == \"Materiales para hornear\", \"categoria\"] = 'Horno'\n",
    "df.loc[df.categoria == \"Hornos\", \"categoria\"] = 'Horno'\n",
    "df.loc[df.categoria == \"Pirometría\", \"categoria\"] = 'Horno'"
   ]
  },
  {
   "cell_type": "code",
   "execution_count": null,
   "metadata": {},
   "outputs": [],
   "source": [
    "df.loc[df.categoria == \"Pinceles\", \"subcategoria\"] = \"Pincel\"\n",
    "df.loc[df.categoria == \"Pinceles\", \"categoria\"] = 'Pinceles/Espátulas pintor'"
   ]
  },
  {
   "cell_type": "code",
   "execution_count": null,
   "metadata": {},
   "outputs": [],
   "source": [
    "df.loc[df.categoria == \"Tornos\", \"subcategoria\"] = \"Tornos y laminadoras\"\n",
    "df.loc[df.categoria == \"Tornos\", \"categoria\"] = 'Maquinaria'"
   ]
  },
  {
   "cell_type": "code",
   "execution_count": null,
   "metadata": {},
   "outputs": [],
   "source": [
    "df.loc[df.categoria == \"Elementos protección\", \"subcategoria\"] = \"Elementos protección\"\n",
    "df.loc[df.categoria == \"Elementos protección\", \"categoria\"] = 'Varios'\n",
    "df.loc[df.categoria == \"Complementos\", \"categoria\"] = 'Varios'"
   ]
  },
  {
   "cell_type": "code",
   "execution_count": null,
   "metadata": {},
   "outputs": [],
   "source": [
    "df.loc[df.categoria == \"Moldes y accesorios\", \"subcategoria\"] = \"Moldes y accesorios\"\n",
    "df.loc[df.categoria == \"Moldes y accesorios\", \"categoria\"] = 'Varios'"
   ]
  },
  {
   "cell_type": "code",
   "execution_count": null,
   "metadata": {},
   "outputs": [],
   "source": [
    "df.loc[df.categoria == \"Rotulador Cerámico\", \"subcategoria\"] = \"Rotulador Cerámico\"\n",
    "df.loc[df.categoria == \"Rotulador Cerámico\", \"categoria\"] = 'Lápices/Tizas cerámicas'"
   ]
  },
  {
   "cell_type": "code",
   "execution_count": null,
   "metadata": {},
   "outputs": [],
   "source": [
    "df.loc[df.categoria == \"Cristalizaciones\", \"subcategoria\"] = \"Cristalizaciones\"\n",
    "df.loc[df.categoria == \"Cristalizaciones\", \"categoria\"] = 'Materias primas'"
   ]
  },
  {
   "cell_type": "code",
   "execution_count": null,
   "metadata": {},
   "outputs": [],
   "source": [
    "#paso valores a tipo de dato categórico\n",
    "df['categoria'] = df['categoria'].astype('category')\n",
    "df['tienda'] = df['tienda'].astype('category')"
   ]
  },
  {
   "cell_type": "code",
   "execution_count": null,
   "metadata": {},
   "outputs": [],
   "source": [
    "def procesar_precios(precio):\n",
    "    if not precio:  # Verifica si la cadena está vacía\n",
    "        return [('N/A', 0.0)]\n",
    "    \n",
    "    # Dividir los valores por '\\n'\n",
    "    items = precio.split('\\n')\n",
    "    result = []\n",
    "    \n",
    "    if len(items) > 1:\n",
    "        for i in range(0, len(items), 2):\n",
    "            if i+1 < len(items):\n",
    "                cantidad = items[i]\n",
    "                try:\n",
    "                    precio_valor = float(items[i+1].replace('€', '').replace(',', '.'))\n",
    "                except ValueError:\n",
    "                    precio_valor = 0.0  # Maneja valores no numéricos o mal formateados\n",
    "                result.append((cantidad, precio_valor))\n",
    "    else:\n",
    "        # Si no tiene el formato esperado, asumir que es un precio único\n",
    "        try:\n",
    "            precio_valor = float(precio.replace('€', '').replace(',', '.'))\n",
    "        except ValueError:\n",
    "            precio_valor = 0.0  # Maneja valores no numéricos o mal formateados\n",
    "        result.append(('N/A', precio_valor))  # 'N/A' para indicar que no hay cantidad específica\n",
    "    \n",
    "    return result\n",
    "\n",
    "# Aplicar la función a la columna precio\n",
    "df['precios_procesados'] = df['precio'].apply(procesar_precios)\n",
    "\n",
    "# Crear un nuevo DataFrame con las cantidades y precios\n",
    "filas = []\n",
    "for idx, row in df.iterrows():\n",
    "    for cantidad, precio in row['precios_procesados']:\n",
    "        filas.append({'Cantidad': cantidad, 'Precio': precio})"
   ]
  },
  {
   "cell_type": "code",
   "execution_count": null,
   "metadata": {},
   "outputs": [],
   "source": [
    "df = df.explode('precios_procesados')\n",
    "df[['Cantidad', 'precio_final']] = pd.DataFrame(df['precios_procesados'].tolist(), index=df.index)"
   ]
  },
  {
   "cell_type": "code",
   "execution_count": null,
   "metadata": {},
   "outputs": [],
   "source": [
    "#si el valor en cantidad no es N/A lo apendeo a la columna nombre\n",
    "df['nombre'] = df.apply(\n",
    "    lambda row: f\"{row['nombre']} {row['Cantidad']}\" if row['Cantidad'] != 'N/A' else row['nombre'], axis=1\n",
    ")"
   ]
  },
  {
   "cell_type": "code",
   "execution_count": null,
   "metadata": {},
   "outputs": [],
   "source": [
    "df = df.drop(columns=['precio_final', 'Cantidad', 'precios_procesados','descripcion'])"
   ]
  },
  {
   "cell_type": "markdown",
   "metadata": {},
   "source": [
    "### Tras conversación con el usuario final se realizan nuevos cambios"
   ]
  },
  {
   "cell_type": "code",
   "execution_count": 5,
   "metadata": {},
   "outputs": [],
   "source": [
    "df.loc[df.subcategoria == \"Azulejos\", \"categoria\"] = \"Bizcocho\""
   ]
  },
  {
   "cell_type": "code",
   "execution_count": 6,
   "metadata": {},
   "outputs": [],
   "source": [
    "df.loc[[99, 100, 101], 'categoria'] = 'Horno'\n",
    "df.loc[[99, 100, 101], 'subcategoria'] = 'Material de estibado para el horno'"
   ]
  },
  {
   "cell_type": "code",
   "execution_count": null,
   "metadata": {},
   "outputs": [],
   "source": [
    "df.loc[[815, 816], 'categoria'] = 'tercer fuego'\n",
    "df.loc[[815, 816], 'subcategoria'] = 'varios'\n",
    "df.loc[[1364, 1365], 'categoria'] = 'Materias primas'\n",
    "df.loc[[1364, 1365], 'subcategoria'] = 'Vehículos y aglutinantes'"
   ]
  },
  {
   "cell_type": "code",
   "execution_count": 7,
   "metadata": {},
   "outputs": [],
   "source": [
    "df.loc[df.categoria == \"tercer-fuego\", \"categoria\"] = 'tercer fuego'\n",
    "df.loc[df.subcategoria == \"Auxiliares\", \"categoria\"] = 'Vehículos y aglutinantes'\n",
    "df.loc[df.subcategoria == \"Óx. colorantes\", \"subcategoria\"] = 'Óxidos colorantes'\n",
    "df.loc[df.subcategoria == \"Lápices\", \"categoria\"] = 'Lápices/Tizas cerámicas'\n",
    "df.loc[df.subcategoria == \"Tizas\", \"categoria\"] = 'Lápices/Tizas cerámicas'"
   ]
  },
  {
   "cell_type": "code",
   "execution_count": null,
   "metadata": {},
   "outputs": [],
   "source": [
    "df.loc[df.subcategoria == \"Engobe 1250ºC\", \"subcategoria\"] = 'Engobes alta temperatura'\n",
    "df.loc[df.subcategoria == \"Engobe 980ºC\", \"subcategoria\"] = 'Engobes baja temperatura'\n",
    "df.loc[df.subcategoria == \"Prodesco - EASP coloreados en suspensión\", \"subcategoria\"] = 'Engobes en suspensión'\n",
    "df.loc[df.subcategoria == \"Engobe Vitrificable 1250ºC\", \"subcategoria\"] = 'Engobes vitrificable  alta temperatura'\n",
    "df.loc[df.subcategoria == \"Engobe Vitrificable 980ºC\", \"subcategoria\"] = 'Engobes vitrificable  baja temperatura'"
   ]
  },
  {
   "cell_type": "code",
   "execution_count": null,
   "metadata": {},
   "outputs": [],
   "source": [
    "df.loc[df['nombre'].str.contains('Torno', case=False, na=False), 'subcategoria'] = 'Tornos'"
   ]
  },
  {
   "cell_type": "code",
   "execution_count": null,
   "metadata": {},
   "outputs": [],
   "source": [
    "df.to_csv(\"anper.csv\", index=False)"
   ]
  }
 ],
 "metadata": {
  "kernelspec": {
   "display_name": "Python 3",
   "language": "python",
   "name": "python3"
  },
  "language_info": {
   "codemirror_mode": {
    "name": "ipython",
    "version": 3
   },
   "file_extension": ".py",
   "mimetype": "text/x-python",
   "name": "python",
   "nbconvert_exporter": "python",
   "pygments_lexer": "ipython3",
   "version": "3.12.3"
  }
 },
 "nbformat": 4,
 "nbformat_minor": 2
}
