{
 "cells": [
  {
   "cell_type": "code",
   "execution_count": 1,
   "metadata": {},
   "outputs": [],
   "source": [
    "import pandas as pd\n",
    "import numpy as np"
   ]
  },
  {
   "cell_type": "code",
   "execution_count": 2,
   "metadata": {},
   "outputs": [],
   "source": [
    "df = pd.read_csv(\"anper.csv\")"
   ]
  },
  {
   "cell_type": "code",
   "execution_count": 4,
   "metadata": {},
   "outputs": [],
   "source": [
    "df.loc[df.subcategoria == \"Azulejos\", \"categoria\"] = \"Bizcocho\""
   ]
  },
  {
   "cell_type": "code",
   "execution_count": 3,
   "metadata": {},
   "outputs": [
    {
     "name": "stdout",
     "output_type": "stream",
     "text": [
      "<class 'pandas.core.frame.DataFrame'>\n",
      "RangeIndex: 1072 entries, 0 to 1071\n",
      "Data columns (total 7 columns):\n",
      " #   Column        Non-Null Count  Dtype \n",
      "---  ------        --------------  ----- \n",
      " 0   categoria     1072 non-null   object\n",
      " 1   subcategoria  1072 non-null   object\n",
      " 2   nombre        1072 non-null   object\n",
      " 3   precio        1072 non-null   object\n",
      " 4   url           1072 non-null   object\n",
      " 5   descripcion   737 non-null    object\n",
      " 6   tienda        1072 non-null   object\n",
      "dtypes: object(7)\n",
      "memory usage: 58.8+ KB\n"
     ]
    }
   ],
   "source": [
    "df.info()"
   ]
  },
  {
   "cell_type": "code",
   "execution_count": 24,
   "metadata": {},
   "outputs": [
    {
     "data": {
      "text/plain": [
       "array(['Arcillas', 'tercer-fuego', 'Complementos', 'Horno',\n",
       "       'Cristalizaciones', 'Elementos protección', 'Engobes', 'Esmaltes',\n",
       "       'Herramientas', 'Hornos', 'Libros y cursos', 'Maquinaria',\n",
       "       'Materiales para hornear', 'Materias primas',\n",
       "       'Moldes y accesorios', 'Óxidos Colorantes', 'Pinceles',\n",
       "       'Pirometría', 'Rotulador Cerámico', 'Tornos', '3er Fuego'],\n",
       "      dtype=object)"
      ]
     },
     "execution_count": 24,
     "metadata": {},
     "output_type": "execute_result"
    }
   ],
   "source": [
    "df.categoria.unique()"
   ]
  },
  {
   "cell_type": "code",
   "execution_count": 63,
   "metadata": {},
   "outputs": [],
   "source": [
    "df.loc[df.categoria == \"3er Fuego\", \"subcategoria\"] = \"tercer-fuego\"\n",
    "df.loc[df.categoria == \"Complementos\", \"categoria\"] = 'Varios'\n"
   ]
  },
  {
   "cell_type": "code",
   "execution_count": 67,
   "metadata": {},
   "outputs": [],
   "source": [
    "df = df.drop(columns=['descripcion'])"
   ]
  },
  {
   "cell_type": "code",
   "execution_count": 72,
   "metadata": {},
   "outputs": [],
   "source": [
    "df['categoria'] = df['categoria'].astype('category')\n",
    "df['tienda'] = df['tienda'].astype('category')"
   ]
  },
  {
   "cell_type": "code",
   "execution_count": 97,
   "metadata": {},
   "outputs": [],
   "source": [
    "df.to_csv(\"anper.csv\", index=False)"
   ]
  },
  {
   "cell_type": "code",
   "execution_count": 78,
   "metadata": {},
   "outputs": [],
   "source": [
    "def procesar_precios(precio):\n",
    "    if not precio:  # Verifica si la cadena está vacía\n",
    "        return [('N/A', 0.0)]\n",
    "    \n",
    "    # Dividir los valores por '\\n'\n",
    "    items = precio.split('\\n')\n",
    "    result = []\n",
    "    \n",
    "    if len(items) > 1:\n",
    "        for i in range(0, len(items), 2):\n",
    "            if i+1 < len(items):\n",
    "                cantidad = items[i]\n",
    "                try:\n",
    "                    precio_valor = float(items[i+1].replace('€', '').replace(',', '.'))\n",
    "                except ValueError:\n",
    "                    precio_valor = 0.0  # Maneja valores no numéricos o mal formateados\n",
    "                result.append((cantidad, precio_valor))\n",
    "    else:\n",
    "        # Si no tiene el formato esperado, asumir que es un precio único\n",
    "        try:\n",
    "            precio_valor = float(precio.replace('€', '').replace(',', '.'))\n",
    "        except ValueError:\n",
    "            precio_valor = 0.0  # Maneja valores no numéricos o mal formateados\n",
    "        result.append(('N/A', precio_valor))  # 'N/A' para indicar que no hay cantidad específica\n",
    "    \n",
    "    return result\n",
    "\n",
    "# Aplicar la función a la columna precio\n",
    "df['precios_procesados'] = df['precio'].apply(procesar_precios)\n",
    "\n",
    "# Crear un nuevo DataFrame con las cantidades y precios\n",
    "filas = []\n",
    "for idx, row in df.iterrows():\n",
    "    for cantidad, precio in row['precios_procesados']:\n",
    "        filas.append({'Cantidad': cantidad, 'Precio': precio})"
   ]
  },
  {
   "cell_type": "code",
   "execution_count": 80,
   "metadata": {},
   "outputs": [],
   "source": [
    "df_exploded = df.explode('precios_procesados')"
   ]
  },
  {
   "cell_type": "code",
   "execution_count": 82,
   "metadata": {},
   "outputs": [],
   "source": [
    "df_exploded[['Cantidad', 'precio_final']] = pd.DataFrame(df_exploded['precios_procesados'].tolist(), index=df_exploded.index)"
   ]
  },
  {
   "cell_type": "code",
   "execution_count": 87,
   "metadata": {},
   "outputs": [],
   "source": [
    "df_exploded['nombre'] = df_exploded.apply(\n",
    "    lambda row: f\"{row['nombre']} {row['Cantidad']}\" if row['Cantidad'] != 'N/A' else row['nombre'], axis=1\n",
    ")"
   ]
  },
  {
   "cell_type": "code",
   "execution_count": 96,
   "metadata": {},
   "outputs": [],
   "source": [
    "df = df_exploded"
   ]
  },
  {
   "cell_type": "code",
   "execution_count": 85,
   "metadata": {},
   "outputs": [],
   "source": [
    "df.precio = df.precio_final"
   ]
  },
  {
   "cell_type": "code",
   "execution_count": 94,
   "metadata": {},
   "outputs": [],
   "source": [
    "df_exploded = df_exploded.drop(columns=['precio_final', 'Cantidad', 'precios_procesados'])"
   ]
  },
  {
   "cell_type": "code",
   "execution_count": null,
   "metadata": {},
   "outputs": [],
   "source": [
    "df_exploded[df_exploded.categoria == \"Arcillas\"]"
   ]
  },
  {
   "cell_type": "code",
   "execution_count": 36,
   "metadata": {},
   "outputs": [
    {
     "data": {
      "text/plain": [
       "array(['Arcillas', 'Bizcocho', 'Horno', 'Varios', 'Materias primas',\n",
       "       'Engobes', 'Esmaltes', 'tercer fuego', 'Herramientas',\n",
       "       'Libros y cursos', 'Maquinaria', 'Óxidos Colorantes',\n",
       "       'Pinceles/Espátulas pintor', 'Lápices/Tizas cerámicas'],\n",
       "      dtype=object)"
      ]
     },
     "execution_count": 36,
     "metadata": {},
     "output_type": "execute_result"
    }
   ],
   "source": [
    "df.categoria.unique()"
   ]
  },
  {
   "cell_type": "code",
   "execution_count": 73,
   "metadata": {},
   "outputs": [],
   "source": [
    "df_categorias = df[df['categoria'] == 'Maquinaria']"
   ]
  },
  {
   "cell_type": "code",
   "execution_count": 74,
   "metadata": {},
   "outputs": [
    {
     "data": {
      "text/html": [
       "<div>\n",
       "<style scoped>\n",
       "    .dataframe tbody tr th:only-of-type {\n",
       "        vertical-align: middle;\n",
       "    }\n",
       "\n",
       "    .dataframe tbody tr th {\n",
       "        vertical-align: top;\n",
       "    }\n",
       "\n",
       "    .dataframe thead th {\n",
       "        text-align: right;\n",
       "    }\n",
       "</style>\n",
       "<table border=\"1\" class=\"dataframe\">\n",
       "  <thead>\n",
       "    <tr style=\"text-align: right;\">\n",
       "      <th></th>\n",
       "      <th>categoria</th>\n",
       "      <th>subcategoria</th>\n",
       "      <th>nombre</th>\n",
       "      <th>precio</th>\n",
       "      <th>url</th>\n",
       "      <th>tienda</th>\n",
       "    </tr>\n",
       "  </thead>\n",
       "  <tbody>\n",
       "    <tr>\n",
       "      <th>1078</th>\n",
       "      <td>Maquinaria</td>\n",
       "      <td>Cortadora refractario</td>\n",
       "      <td>MQ007093 CORTADORA REFRACTARIO DR-350 ZERO DUST</td>\n",
       "      <td>1139.86</td>\n",
       "      <td>https://anper.net/productos/941/maquinaria/mq0...</td>\n",
       "      <td>Anper</td>\n",
       "    </tr>\n",
       "    <tr>\n",
       "      <th>1098</th>\n",
       "      <td>Maquinaria</td>\n",
       "      <td>Pistolas</td>\n",
       "      <td>EP007616 Pistola Premium 474 1.0</td>\n",
       "      <td>103.21</td>\n",
       "      <td>https://anper.net/productos/872/maquinaria/ep0...</td>\n",
       "      <td>Anper</td>\n",
       "    </tr>\n",
       "    <tr>\n",
       "      <th>1586</th>\n",
       "      <td>Maquinaria</td>\n",
       "      <td>Tornos y laminadoras</td>\n",
       "      <td>MQ007075 Plato torno Forns G-1 D.300mm</td>\n",
       "      <td>59.29</td>\n",
       "      <td>https://anper.net/productos/615/tornos/mq00707...</td>\n",
       "      <td>Anper</td>\n",
       "    </tr>\n",
       "    <tr>\n",
       "      <th>1090</th>\n",
       "      <td>Maquinaria</td>\n",
       "      <td>Galleteras - Extrusionadoras</td>\n",
       "      <td>MQ007130 Boquilla para Galletera \"C\" NRA-04 - ...</td>\n",
       "      <td>88.45</td>\n",
       "      <td>https://anper.net/productos/1132/maquinaria/MQ...</td>\n",
       "      <td>Anper</td>\n",
       "    </tr>\n",
       "    <tr>\n",
       "      <th>1099</th>\n",
       "      <td>Maquinaria</td>\n",
       "      <td>Pistolas</td>\n",
       "      <td>EP007617 Pistola 472 y Compressor 777</td>\n",
       "      <td>246.00</td>\n",
       "      <td>https://anper.net/productos/871/maquinaria/ep0...</td>\n",
       "      <td>Anper</td>\n",
       "    </tr>\n",
       "    <tr>\n",
       "      <th>1085</th>\n",
       "      <td>Maquinaria</td>\n",
       "      <td>Galleteras - Extrusionadoras</td>\n",
       "      <td>MQ007082 Extrusionadora pistola manual - con 6...</td>\n",
       "      <td>44.77</td>\n",
       "      <td>https://anper.net/productos/618/maquinaria/mq0...</td>\n",
       "      <td>Anper</td>\n",
       "    </tr>\n",
       "    <tr>\n",
       "      <th>1074</th>\n",
       "      <td>Maquinaria</td>\n",
       "      <td>Balanzas</td>\n",
       "      <td>UT840301 Balanza digital lectura: 500g x 0,1g</td>\n",
       "      <td>82.28</td>\n",
       "      <td>https://anper.net/productos/8/maquinaria/ut840...</td>\n",
       "      <td>Anper</td>\n",
       "    </tr>\n",
       "    <tr>\n",
       "      <th>1093</th>\n",
       "      <td>Maquinaria</td>\n",
       "      <td>Laminadoras</td>\n",
       "      <td>Laminadora Nidec - Shimpo TSR sobremesa</td>\n",
       "      <td>780.45</td>\n",
       "      <td>https://anper.net/productos/505/maquinaria/lam...</td>\n",
       "      <td>Anper</td>\n",
       "    </tr>\n",
       "    <tr>\n",
       "      <th>1103</th>\n",
       "      <td>Maquinaria</td>\n",
       "      <td>Pulverizador Paintec</td>\n",
       "      <td>UT841025 Kit de 3 boquillas Paintec D.0.8 - 1....</td>\n",
       "      <td>14.40</td>\n",
       "      <td>https://anper.net/productos/866/maquinaria/ut8...</td>\n",
       "      <td>Anper</td>\n",
       "    </tr>\n",
       "    <tr>\n",
       "      <th>1080</th>\n",
       "      <td>Maquinaria</td>\n",
       "      <td>Galleteras - Extrusionadoras</td>\n",
       "      <td>Galletera Nidec - Shimpo NRA-04 Aluminio</td>\n",
       "      <td>5674.90</td>\n",
       "      <td>https://anper.net/productos/510/maquinaria/gal...</td>\n",
       "      <td>Anper</td>\n",
       "    </tr>\n",
       "  </tbody>\n",
       "</table>\n",
       "</div>"
      ],
      "text/plain": [
       "       categoria                  subcategoria  \\\n",
       "1078  Maquinaria         Cortadora refractario   \n",
       "1098  Maquinaria                      Pistolas   \n",
       "1586  Maquinaria          Tornos y laminadoras   \n",
       "1090  Maquinaria  Galleteras - Extrusionadoras   \n",
       "1099  Maquinaria                      Pistolas   \n",
       "1085  Maquinaria  Galleteras - Extrusionadoras   \n",
       "1074  Maquinaria                      Balanzas   \n",
       "1093  Maquinaria                   Laminadoras   \n",
       "1103  Maquinaria          Pulverizador Paintec   \n",
       "1080  Maquinaria  Galleteras - Extrusionadoras   \n",
       "\n",
       "                                                 nombre   precio  \\\n",
       "1078    MQ007093 CORTADORA REFRACTARIO DR-350 ZERO DUST  1139.86   \n",
       "1098                   EP007616 Pistola Premium 474 1.0   103.21   \n",
       "1586             MQ007075 Plato torno Forns G-1 D.300mm    59.29   \n",
       "1090  MQ007130 Boquilla para Galletera \"C\" NRA-04 - ...    88.45   \n",
       "1099              EP007617 Pistola 472 y Compressor 777   246.00   \n",
       "1085  MQ007082 Extrusionadora pistola manual - con 6...    44.77   \n",
       "1074      UT840301 Balanza digital lectura: 500g x 0,1g    82.28   \n",
       "1093            Laminadora Nidec - Shimpo TSR sobremesa   780.45   \n",
       "1103  UT841025 Kit de 3 boquillas Paintec D.0.8 - 1....    14.40   \n",
       "1080           Galletera Nidec - Shimpo NRA-04 Aluminio  5674.90   \n",
       "\n",
       "                                                    url tienda  \n",
       "1078  https://anper.net/productos/941/maquinaria/mq0...  Anper  \n",
       "1098  https://anper.net/productos/872/maquinaria/ep0...  Anper  \n",
       "1586  https://anper.net/productos/615/tornos/mq00707...  Anper  \n",
       "1090  https://anper.net/productos/1132/maquinaria/MQ...  Anper  \n",
       "1099  https://anper.net/productos/871/maquinaria/ep0...  Anper  \n",
       "1085  https://anper.net/productos/618/maquinaria/mq0...  Anper  \n",
       "1074  https://anper.net/productos/8/maquinaria/ut840...  Anper  \n",
       "1093  https://anper.net/productos/505/maquinaria/lam...  Anper  \n",
       "1103  https://anper.net/productos/866/maquinaria/ut8...  Anper  \n",
       "1080  https://anper.net/productos/510/maquinaria/gal...  Anper  "
      ]
     },
     "execution_count": 74,
     "metadata": {},
     "output_type": "execute_result"
    }
   ],
   "source": [
    "df_categorias.sample(10)"
   ]
  },
  {
   "cell_type": "code",
   "execution_count": 75,
   "metadata": {},
   "outputs": [
    {
     "data": {
      "text/plain": [
       "array(['Balanzas', 'Cortadora refractario',\n",
       "       'Galleteras - Extrusionadoras', 'Laminadoras', 'Pistolas',\n",
       "       'Pulverizador Paintec', 'Tornos y laminadoras'], dtype=object)"
      ]
     },
     "execution_count": 75,
     "metadata": {},
     "output_type": "execute_result"
    }
   ],
   "source": [
    "df_categorias.subcategoria.unique()"
   ]
  },
  {
   "cell_type": "code",
   "execution_count": 68,
   "metadata": {},
   "outputs": [],
   "source": [
    "df.loc[df.subcategoria == \"Engobe 1250ºC\", \"subcategoria\"] = 'Engobes alta temperatura'\n",
    "df.loc[df.subcategoria == \"Engobe 980ºC\", \"subcategoria\"] = 'Engobes baja temperatura'\n",
    "df.loc[df.subcategoria == \"Prodesco - EASP coloreados en suspensión\", \"subcategoria\"] = 'Engobes en suspensión'\n",
    "df.loc[df.subcategoria == \"Engobe Vitrificable 1250ºC\", \"subcategoria\"] = 'Engobes vitrificable  alta temperatura'\n",
    "df.loc[df.subcategoria == \"Engobe Vitrificable 980ºC\", \"subcategoria\"] = 'Engobes vitrificable  baja temperatura'"
   ]
  },
  {
   "cell_type": "code",
   "execution_count": 53,
   "metadata": {},
   "outputs": [],
   "source": [
    "df.loc[df.subcategoria == \"Lápices\", \"categoria\"] = 'Lápices/Tizas cerámicas'\n",
    "df.loc[df.subcategoria == \"Tizas\", \"categoria\"] = 'Lápices/Tizas cerámicas'"
   ]
  },
  {
   "cell_type": "code",
   "execution_count": null,
   "metadata": {},
   "outputs": [],
   "source": [
    "df.loc[1586, 'categoria'] = 'Torno'"
   ]
  },
  {
   "cell_type": "code",
   "execution_count": 35,
   "metadata": {},
   "outputs": [],
   "source": [
    "df.loc[[1364, 1365], 'categoria'] = 'Materias primas'\n",
    "df.loc[[1364, 1365], 'subcategoria'] = 'Vehículos y aglutinantes'"
   ]
  }
 ],
 "metadata": {
  "kernelspec": {
   "display_name": "Python 3",
   "language": "python",
   "name": "python3"
  },
  "language_info": {
   "codemirror_mode": {
    "name": "ipython",
    "version": 3
   },
   "file_extension": ".py",
   "mimetype": "text/x-python",
   "name": "python",
   "nbconvert_exporter": "python",
   "pygments_lexer": "ipython3",
   "version": "3.12.3"
  }
 },
 "nbformat": 4,
 "nbformat_minor": 2
}
