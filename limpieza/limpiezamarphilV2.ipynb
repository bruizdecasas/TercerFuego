{
 "cells": [
  {
   "cell_type": "code",
   "execution_count": null,
   "metadata": {},
   "outputs": [],
   "source": [
    "import pandas as pd\n",
    "import numpy as np"
   ]
  },
  {
   "cell_type": "code",
   "execution_count": null,
   "metadata": {},
   "outputs": [],
   "source": [
    "df = pd.read_csv(\"marphil.csv\")"
   ]
  },
  {
   "cell_type": "code",
   "execution_count": null,
   "metadata": {},
   "outputs": [],
   "source": []
  },
  {
   "cell_type": "code",
   "execution_count": null,
   "metadata": {},
   "outputs": [],
   "source": [
    "#empezamos homegeneizando los valores de la categoría de de arcillas\n",
    "df.loc[df.categoria == \"arcillas\", \"categoria\"] = \"Arcillas\"\n",
    "df.loc[df.subcategoria == \"arcillas-alta-temperatura\", \"subcategoria\"] = \"Arcillas alta temperatura\"\n",
    "df.loc[df.subcategoria == \"arcillas-baja-temperatura\", \"subcategoria\"] = \"Arcillas baja temperatura\"\n"
   ]
  },
  {
   "cell_type": "code",
   "execution_count": null,
   "metadata": {},
   "outputs": [],
   "source": [
    "#ahora trabajamos la categoría colores, que la vamos a repartir entre varias categorías\n",
    "df.loc[df.subcategoria == \"engobes\", \"categoria\"] = \"Engobes\"\n",
    "df.loc[df['categoria'] == 'Engobes', 'subcategoria'] = df['tipo']\n",
    "\n",
    "df.loc[df.subcategoria == \"cristales\", \"categoria\"] = \"Varios\"\n",
    "df.loc[df['categoria'] == 'Varios', 'subcategoria'] = df['tipo']\n",
    "\n",
    "df.loc[df.tipo == \"lapices\", \"categoria\"] = \"Lápices/Tizas cerámicas\"\n",
    "df.loc[df.tipo == \"lapices\", \"subcategoria\"] = \"lápices\"\n",
    "\n",
    "df.loc[df.tipo == \"ceras\", \"categoria\"] = \"Lápices/Tizas cerámicas\"\n",
    "df.loc[df.tipo == \"ceras\", \"subcategoria\"] = \"ceras\"\n",
    "\n",
    "df.loc[df.tipo == \"tizas_crayocer\", \"categoria\"] = \"Lápices/Tizas cerámicas\"\n",
    "df.loc[df.tipo == \"tizas_crayocer\", \"subcategoria\"] = \"tizas\"\n",
    "\n",
    "df.loc[df.tipo == \"cd_sin_plomo\", \"categoria\"] = \"Óxidos colorantes\"\n",
    "df.loc[df.tipo == \"cd_sin_plomo\", \"subcategoria\"] = \"cd_sin_plomo\"\n",
    "\n",
    "df.loc[df.tipo == \"serie-p\", \"categoria\"] = \"Óxidos colorantes\"\n",
    "df.loc[df.tipo == \"serie-p\", \"subcategoria\"] = \"serie-p\"\n",
    "\n",
    "df.loc[df.tipo == \"botz\", \"categoria\"] = \"Óxidos colorantes\"\n",
    "df.loc[df.tipo == \"botz\", \"subcategoria\"] = \"botz\"\n",
    "\n",
    "df.loc[df.tipo == \"oxidos-mayco\", \"categoria\"] = \"Óxidos colorantes\"\n",
    "df.loc[df.tipo == \"oxidos-mayco\", \"subcategoria\"] = \"oxidos-mayco\"\n",
    "\n",
    "df.loc[df.tipo == \"tissue-transfer\", \"categoria\"] = \"Varios\"\n",
    "df.loc[df.tipo == \"tissue-transfer\", \"subcategoria\"] = \"tissue-transfer\"\n",
    "\n",
    "df.loc[df.tipo == \"acuarelas\", \"categoria\"] = \"Varios\"\n",
    "df.loc[df.tipo == \"acuarelas\", \"subcategoria\"] = \"acuarelas\"\n",
    "\n",
    "df.loc[df.categoria == \"colores\", \"categoria\"] = 'Esmaltes'\n",
    "df.loc[df.tipo == \"baja-temperatura-esmaltes\", \"subcategoria\"] = \"Esmaltes baja temperatura\"\n",
    "df.loc[df.tipo == \"alta-esmaltes-polvo\", \"subcategoria\"] = \"Esmaltes alta temperatura\"\n",
    "df.loc[df.tipo == \"alta-esmaltes-suspension\", \"subcategoria\"] = \"Esmaltes en suspensión\"\n",
    "df.loc[df.tipo == \"baja-esmaltes-suspension\", \"subcategoria\"] = \"Esmaltes en suspensión\"\n",
    "df.loc[df.tipo == \"raku-esmaltes\", \"subcategoria\"] = \"Esmalte de rakú\"\n",
    "df.loc[df.tipo == \"botz-pro\", \"categoria\"] = \"Óxidos colorantes\"\n",
    "df.loc[df.tipo == \"botz-pro\", \"subcategoria\"] = \"botz-pro\"\n",
    "df.loc[df.tipo == \"strokecoat\", \"categoria\"] = \"Esmaltes\"\n",
    "df.loc[df.tipo == \"strokecoat\", \"subcategoria\"] = \"strokecoat\""
   ]
  },
  {
   "cell_type": "code",
   "execution_count": null,
   "metadata": {},
   "outputs": [],
   "source": [
    "#exploramos la categoría herramientas\n",
    "df.loc[df.subcategoria == \"hornos-ceramica\", \"categoria\"] = \"Horno\"\n",
    "df.loc[df.tipo == \"hornos-ceramica\", \"subcategoria\"] = \"Hornos cerámicos\"\n",
    "\n",
    "df.loc[df.subcategoria == \"hornos-carga\", \"categoria\"] = \"Horno\"\n",
    "df.loc[df.subcategoria == \"hornos-carga\", \"subcategoria\"] = \"Material de estibado para el horno\"\n",
    "\n",
    "df.loc[df.subcategoria == \"laminadoras\", \"categoria\"] = \"Maquinaria\"\n",
    "df.loc[df.subcategoria == \"laminadoras\", \"subcategoria\"] = \"Tornos y laminadoras\"\n",
    "\n",
    "df.loc[df.subcategoria == \"tornos\", \"categoria\"] = \"Maquinaria\"\n",
    "df.loc[df.subcategoria == \"tornos\", \"subcategoria\"] = \"Tornos y laminadoras\"\n",
    "\n",
    "df.loc[df.subcategoria == \"medio-ambiente\", \"categoria\"] = \"Varios\"\n",
    "df.loc[df.subcategoria == \"medio-ambiente\", \"subcategoria\"] = \"Depuradora\"\n",
    "\n",
    "df.loc[df.subcategoria == \"medio-ambiente\", \"categoria\"] = \"Varios\"\n",
    "df.loc[df.subcategoria == \"medio-ambiente\", \"subcategoria\"] = \"plásticos\""
   ]
  },
  {
   "cell_type": "code",
   "execution_count": null,
   "metadata": {},
   "outputs": [],
   "source": [
    "#categoría herramientas\n",
    "df.loc[df.subcategoria == \"asas_tetera\", \"categoria\"] = \"tercer-fuego\"\n",
    "df.loc[df.subcategoria == \"asas_tetera\", \"subcategoria\"] = \"asas_tetera\"\n",
    "\n",
    "df.loc[df.subcategoria == \"compas\", \"categoria\"] = \"Herramientas\"\n",
    "df.loc[df.subcategoria == \"compas\", \"subcategoria\"] = \"compás\"\n",
    "\n",
    "df.loc[df.subcategoria == \"cortadores\", \"categoria\"] = \"Herramientas\"\n",
    "df.loc[df.subcategoria == \"cortadores\", \"subcategoria\"] = \"cortadores\"\n",
    "\n",
    "df.loc[df.subcategoria == \"espatula \", \"categoria\"] = 'Pinceles/Espátulas pintor'\n",
    "df.loc[df.subcategoria == \"espatula \", \"subcategoria\"] = \"espátulas\"\n",
    "\n",
    "df.loc[df.subcategoria == \"esponjas\", \"categoria\"] = 'Herramientas'\n",
    "df.loc[df.subcategoria == \"esponjas\", \"subcategoria\"] = \"herramientas varias\"\n",
    "\n",
    "df.loc[df.subcategoria == \"extrusora\", \"categoria\"] = 'Herramientas'\n",
    "df.loc[df.subcategoria == \"extrusora\", \"subcategoria\"] = \"herramientas varias\"\n",
    "\n",
    "df.loc[df.subcategoria == \"lijas\", \"categoria\"] = 'Herramientas'\n",
    "df.loc[df.subcategoria == \"lijas\", \"subcategoria\"] = \"herramientas varias\"\n",
    "\n",
    "df.loc[df.subcategoria == \"palillo\", \"categoria\"] = 'Herramientas'\n",
    "df.loc[df.subcategoria == \"palillo\", \"subcategoria\"] = \"palillos modelar\"\n",
    "\n",
    "df.loc[df.subcategoria == \"torneta\", \"categoria\"] = 'Herramientas'\n",
    "df.loc[df.subcategoria == \"torneta\", \"subcategoria\"] = \"Torneta\"\n",
    "\n",
    "df.loc[df.subcategoria == \"pinceles\", \"categoria\"] = 'Pinceles/Espátulas pintor'\n",
    "df.loc[df.subcategoria == \"pinceles\", \"subcategoria\"] = \"Pincel\"\n",
    "\n",
    "\n"
   ]
  },
  {
   "cell_type": "code",
   "execution_count": null,
   "metadata": {},
   "outputs": [],
   "source": []
  }
 ],
 "metadata": {
  "language_info": {
   "name": "python"
  }
 },
 "nbformat": 4,
 "nbformat_minor": 2
}
