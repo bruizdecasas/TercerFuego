{
 "cells": [
  {
   "cell_type": "code",
   "execution_count": 21,
   "metadata": {},
   "outputs": [],
   "source": [
    "import pandas as pd\n",
    "import numpy as np"
   ]
  },
  {
   "cell_type": "code",
   "execution_count": 22,
   "metadata": {},
   "outputs": [],
   "source": [
    "df_anper = pd.read_csv(\"anper.csv\")\n",
    "df_kadar = pd.read_csv(\"kadar.csv\")\n",
    "df_marphil = pd.read_csv(\"marphil.csv\")"
   ]
  },
  {
   "cell_type": "code",
   "execution_count": 23,
   "metadata": {},
   "outputs": [],
   "source": [
    "#unimos los dataFrames de los productos de cada tienda en uno solo\n",
    "df_productos = pd.concat([df_anper, df_kadar, df_marphil], ignore_index=True)"
   ]
  },
  {
   "cell_type": "code",
   "execution_count": 39,
   "metadata": {},
   "outputs": [
    {
     "data": {
      "text/html": [
       "<div>\n",
       "<style scoped>\n",
       "    .dataframe tbody tr th:only-of-type {\n",
       "        vertical-align: middle;\n",
       "    }\n",
       "\n",
       "    .dataframe tbody tr th {\n",
       "        vertical-align: top;\n",
       "    }\n",
       "\n",
       "    .dataframe thead th {\n",
       "        text-align: right;\n",
       "    }\n",
       "</style>\n",
       "<table border=\"1\" class=\"dataframe\">\n",
       "  <thead>\n",
       "    <tr style=\"text-align: right;\">\n",
       "      <th></th>\n",
       "      <th>categoria</th>\n",
       "      <th>subcategoria</th>\n",
       "      <th>nombre</th>\n",
       "      <th>precio</th>\n",
       "      <th>url</th>\n",
       "      <th>tienda</th>\n",
       "    </tr>\n",
       "  </thead>\n",
       "  <tbody>\n",
       "    <tr>\n",
       "      <th>0</th>\n",
       "      <td>Arcillas</td>\n",
       "      <td>Arcillas alta temperatura</td>\n",
       "      <td>LUNA gres moteado 12.5kg</td>\n",
       "      <td>14.94</td>\n",
       "      <td>https://anper.net/productos/1255/arcilla-alta-...</td>\n",
       "      <td>Anper</td>\n",
       "    </tr>\n",
       "    <tr>\n",
       "      <th>1</th>\n",
       "      <td>Arcillas</td>\n",
       "      <td>Arcillas alta temperatura</td>\n",
       "      <td>PA000807 Gres art-13 colaje 1Kg</td>\n",
       "      <td>2.37</td>\n",
       "      <td>https://anper.net/productos/248/arcilla-alta-t...</td>\n",
       "      <td>Anper</td>\n",
       "    </tr>\n",
       "    <tr>\n",
       "      <th>2</th>\n",
       "      <td>Arcillas</td>\n",
       "      <td>Arcillas alta temperatura</td>\n",
       "      <td>PA000807 Gres art-13 colaje 5Kg</td>\n",
       "      <td>9.55</td>\n",
       "      <td>https://anper.net/productos/248/arcilla-alta-t...</td>\n",
       "      <td>Anper</td>\n",
       "    </tr>\n",
       "    <tr>\n",
       "      <th>3</th>\n",
       "      <td>Arcillas</td>\n",
       "      <td>Arcillas alta temperatura</td>\n",
       "      <td>PA000807 Gres art-13 colaje 25Kg</td>\n",
       "      <td>36.12</td>\n",
       "      <td>https://anper.net/productos/248/arcilla-alta-t...</td>\n",
       "      <td>Anper</td>\n",
       "    </tr>\n",
       "    <tr>\n",
       "      <th>4</th>\n",
       "      <td>Arcillas</td>\n",
       "      <td>Arcillas alta temperatura</td>\n",
       "      <td>PA000821 Gres -130 húmeda 12,5Kg</td>\n",
       "      <td>13.19</td>\n",
       "      <td>https://anper.net/productos/254/arcilla-alta-t...</td>\n",
       "      <td>Anper</td>\n",
       "    </tr>\n",
       "    <tr>\n",
       "      <th>...</th>\n",
       "      <td>...</td>\n",
       "      <td>...</td>\n",
       "      <td>...</td>\n",
       "      <td>...</td>\n",
       "      <td>...</td>\n",
       "      <td>...</td>\n",
       "    </tr>\n",
       "    <tr>\n",
       "      <th>3866</th>\n",
       "      <td>Bizcocho</td>\n",
       "      <td>bizcocho-ceramico</td>\n",
       "      <td>Jarrón redondo 18 cm – BAVA</td>\n",
       "      <td>8.32</td>\n",
       "      <td>https://www.marphil.com/producto/jarron-redond...</td>\n",
       "      <td>Marphil</td>\n",
       "    </tr>\n",
       "    <tr>\n",
       "      <th>3867</th>\n",
       "      <td>Bizcocho</td>\n",
       "      <td>bizcocho-ceramico</td>\n",
       "      <td>Jarrón torcido 23,5 cm – HURR</td>\n",
       "      <td>7.02</td>\n",
       "      <td>https://www.marphil.com/producto/jarron-torcid...</td>\n",
       "      <td>Marphil</td>\n",
       "    </tr>\n",
       "    <tr>\n",
       "      <th>3868</th>\n",
       "      <td>Bizcocho</td>\n",
       "      <td>bizcocho-ceramico</td>\n",
       "      <td>Maceta con plato 11 cm – BLUTO</td>\n",
       "      <td>11.11</td>\n",
       "      <td>https://www.marphil.com/producto/maceta-con-pl...</td>\n",
       "      <td>Marphil</td>\n",
       "    </tr>\n",
       "    <tr>\n",
       "      <th>3869</th>\n",
       "      <td>Bizcocho</td>\n",
       "      <td>bizcocho-ceramico</td>\n",
       "      <td>Vaso bizcocho facetado grande FAGR</td>\n",
       "      <td>5.13</td>\n",
       "      <td>https://www.marphil.com/producto/vaso-bizcocho...</td>\n",
       "      <td>Marphil</td>\n",
       "    </tr>\n",
       "    <tr>\n",
       "      <th>3870</th>\n",
       "      <td>Bizcocho</td>\n",
       "      <td>bizcocho-ceramico</td>\n",
       "      <td>Vaso bizcocho facetado pequeño FAKL</td>\n",
       "      <td>2.95</td>\n",
       "      <td>https://www.marphil.com/producto/vaso-bizcocho...</td>\n",
       "      <td>Marphil</td>\n",
       "    </tr>\n",
       "  </tbody>\n",
       "</table>\n",
       "<p>3871 rows × 6 columns</p>\n",
       "</div>"
      ],
      "text/plain": [
       "     categoria               subcategoria  \\\n",
       "0     Arcillas  Arcillas alta temperatura   \n",
       "1     Arcillas  Arcillas alta temperatura   \n",
       "2     Arcillas  Arcillas alta temperatura   \n",
       "3     Arcillas  Arcillas alta temperatura   \n",
       "4     Arcillas  Arcillas alta temperatura   \n",
       "...        ...                        ...   \n",
       "3866  Bizcocho          bizcocho-ceramico   \n",
       "3867  Bizcocho          bizcocho-ceramico   \n",
       "3868  Bizcocho          bizcocho-ceramico   \n",
       "3869  Bizcocho          bizcocho-ceramico   \n",
       "3870  Bizcocho          bizcocho-ceramico   \n",
       "\n",
       "                                   nombre  precio  \\\n",
       "0                LUNA gres moteado 12.5kg   14.94   \n",
       "1         PA000807 Gres art-13 colaje 1Kg    2.37   \n",
       "2         PA000807 Gres art-13 colaje 5Kg    9.55   \n",
       "3        PA000807 Gres art-13 colaje 25Kg   36.12   \n",
       "4        PA000821 Gres -130 húmeda 12,5Kg   13.19   \n",
       "...                                   ...     ...   \n",
       "3866          Jarrón redondo 18 cm – BAVA    8.32   \n",
       "3867        Jarrón torcido 23,5 cm – HURR    7.02   \n",
       "3868       Maceta con plato 11 cm – BLUTO   11.11   \n",
       "3869   Vaso bizcocho facetado grande FAGR    5.13   \n",
       "3870  Vaso bizcocho facetado pequeño FAKL    2.95   \n",
       "\n",
       "                                                    url   tienda  \n",
       "0     https://anper.net/productos/1255/arcilla-alta-...    Anper  \n",
       "1     https://anper.net/productos/248/arcilla-alta-t...    Anper  \n",
       "2     https://anper.net/productos/248/arcilla-alta-t...    Anper  \n",
       "3     https://anper.net/productos/248/arcilla-alta-t...    Anper  \n",
       "4     https://anper.net/productos/254/arcilla-alta-t...    Anper  \n",
       "...                                                 ...      ...  \n",
       "3866  https://www.marphil.com/producto/jarron-redond...  Marphil  \n",
       "3867  https://www.marphil.com/producto/jarron-torcid...  Marphil  \n",
       "3868  https://www.marphil.com/producto/maceta-con-pl...  Marphil  \n",
       "3869  https://www.marphil.com/producto/vaso-bizcocho...  Marphil  \n",
       "3870  https://www.marphil.com/producto/vaso-bizcocho...  Marphil  \n",
       "\n",
       "[3871 rows x 6 columns]"
      ]
     },
     "execution_count": 39,
     "metadata": {},
     "output_type": "execute_result"
    }
   ],
   "source": [
    "df_productos"
   ]
  },
  {
   "cell_type": "code",
   "execution_count": 37,
   "metadata": {},
   "outputs": [
    {
     "data": {
      "text/plain": [
       "array(['Arcillas', 'Bizcocho', 'Horno', 'Varios', 'Materias primas',\n",
       "       'Engobes', 'Esmaltes', 'tercer fuego', 'Herramientas',\n",
       "       'Libros y cursos', 'Maquinaria', 'Óxidos Colorantes',\n",
       "       'Lápices/Tizas cerámicas', 'Pinceles/Espátulas pintor',\n",
       "       'Óxidos colorantes'], dtype=object)"
      ]
     },
     "execution_count": 37,
     "metadata": {},
     "output_type": "execute_result"
    }
   ],
   "source": [
    "#comprobamos que no ha habido errores en la limpieza\n",
    "df_productos.categoria.unique()"
   ]
  },
  {
   "cell_type": "code",
   "execution_count": 30,
   "metadata": {},
   "outputs": [],
   "source": [
    "#tenemos que hacer algunas correcciones\n",
    "df_productos.loc[(df_productos['categoria'] == 'Vehículos y aglutinantes') & \n",
    "       (df_productos['subcategoria'] == 'Elementos protección'), 'subcategoria'] = 'Auxiliares'\n"
   ]
  },
  {
   "cell_type": "code",
   "execution_count": 34,
   "metadata": {},
   "outputs": [],
   "source": [
    "df_productos.loc[df_productos.subcategoria == \"Auxiliares\", \"categoria\"] = 'Materias primas'\n",
    "df_productos.loc[df_productos.subcategoria == \"Auxiliares\", \"subcategoria\"] = 'Vehículos y aglutinantes'"
   ]
  },
  {
   "cell_type": "code",
   "execution_count": 35,
   "metadata": {},
   "outputs": [],
   "source": [
    "df_categorias = df_productos[df_productos['categoria'] == 'Vehículos y aglutinantes']"
   ]
  },
  {
   "cell_type": "code",
   "execution_count": 38,
   "metadata": {},
   "outputs": [],
   "source": [
    "df_productos.to_csv(\"productos.csv\", index=False)"
   ]
  }
 ],
 "metadata": {
  "kernelspec": {
   "display_name": "Python 3",
   "language": "python",
   "name": "python3"
  },
  "language_info": {
   "codemirror_mode": {
    "name": "ipython",
    "version": 3
   },
   "file_extension": ".py",
   "mimetype": "text/x-python",
   "name": "python",
   "nbconvert_exporter": "python",
   "pygments_lexer": "ipython3",
   "version": "3.12.3"
  }
 },
 "nbformat": 4,
 "nbformat_minor": 2
}
