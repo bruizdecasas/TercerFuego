{
 "cells": [
  {
   "cell_type": "code",
   "execution_count": null,
   "metadata": {},
   "outputs": [],
   "source": [
    "import pandas as pd\n",
    "import numpy as np"
   ]
  },
  {
   "cell_type": "code",
   "execution_count": null,
   "metadata": {},
   "outputs": [],
   "source": [
    "df = pd.read_csv(\"marphil.csv\")"
   ]
  },
  {
   "cell_type": "code",
   "execution_count": null,
   "metadata": {},
   "outputs": [],
   "source": [
    "#empezamos homegeneizando los valores de la categoría de de arcillas\n",
    "df.loc[df.categoria == \"arcillas\", \"categoria\"] = \"Arcillas\"\n",
    "df.loc[df.subcategoria == \"arcillas-alta-temperatura\", \"subcategoria\"] = \"Arcillas alta temperatura\"\n",
    "df.loc[df.subcategoria == \"arcillas-baja-temperatura\", \"subcategoria\"] = \"Arcillas baja temperatura\"\n"
   ]
  },
  {
   "cell_type": "code",
   "execution_count": null,
   "metadata": {},
   "outputs": [],
   "source": [
    "#ahora trabajamos la categoría colores, que la vamos a repartir entre varias categorías\n",
    "df.loc[df.subcategoria == \"engobes\", \"categoria\"] = \"Engobes\"\n",
    "df.loc[df['categoria'] == 'Engobes', 'subcategoria'] = df['tipo']\n",
    "\n",
    "df.loc[df.subcategoria == \"cristales\", \"categoria\"] = \"Varios\"\n",
    "df.loc[df['categoria'] == 'Varios', 'subcategoria'] = df['tipo']\n",
    "\n",
    "df.loc[df.tipo == \"lapices\", \"categoria\"] = \"Lápices/Tizas cerámicas\"\n",
    "df.loc[df.tipo == \"lapices\", \"subcategoria\"] = \"lápices\"\n",
    "\n",
    "df.loc[df.tipo == \"ceras\", \"categoria\"] = \"Lápices/Tizas cerámicas\"\n",
    "df.loc[df.tipo == \"ceras\", \"subcategoria\"] = \"ceras\"\n",
    "\n",
    "df.loc[df.tipo == \"tizas_crayocer\", \"categoria\"] = \"Lápices/Tizas cerámicas\"\n",
    "df.loc[df.tipo == \"tizas_crayocer\", \"subcategoria\"] = \"tizas\"\n",
    "\n",
    "df.loc[df.tipo == \"cd_sin_plomo\", \"categoria\"] = \"Óxidos colorantes\"\n",
    "df.loc[df.tipo == \"cd_sin_plomo\", \"subcategoria\"] = \"cd_sin_plomo\"\n",
    "\n",
    "df.loc[df.tipo == \"serie-p\", \"categoria\"] = \"Óxidos colorantes\"\n",
    "df.loc[df.tipo == \"serie-p\", \"subcategoria\"] = \"serie-p\"\n",
    "\n",
    "df.loc[df.tipo == \"botz\", \"categoria\"] = \"Óxidos colorantes\"\n",
    "df.loc[df.tipo == \"botz\", \"subcategoria\"] = \"botz\"\n",
    "\n",
    "df.loc[df.tipo == \"oxidos-mayco\", \"categoria\"] = \"Óxidos colorantes\"\n",
    "df.loc[df.tipo == \"oxidos-mayco\", \"subcategoria\"] = \"oxidos-mayco\"\n",
    "\n",
    "df.loc[df.tipo == \"tissue-transfer\", \"categoria\"] = \"Varios\"\n",
    "df.loc[df.tipo == \"tissue-transfer\", \"subcategoria\"] = \"tissue-transfer\"\n",
    "\n",
    "df.loc[df.tipo == \"acuarelas\", \"categoria\"] = \"Varios\"\n",
    "df.loc[df.tipo == \"acuarelas\", \"subcategoria\"] = \"acuarelas\"\n",
    "\n",
    "df.loc[df.categoria == \"colores\", \"categoria\"] = 'Esmaltes'\n",
    "df.loc[df.tipo == \"baja-temperatura-esmaltes\", \"subcategoria\"] = \"Esmaltes baja temperatura\"\n",
    "df.loc[df.tipo == \"alta-esmaltes-polvo\", \"subcategoria\"] = \"Esmaltes alta temperatura\"\n",
    "df.loc[df.tipo == \"alta-esmaltes-suspension\", \"subcategoria\"] = \"Esmaltes en suspensión\"\n",
    "df.loc[df.tipo == \"baja-esmaltes-suspension\", \"subcategoria\"] = \"Esmaltes en suspensión\"\n",
    "df.loc[df.tipo == \"raku-esmaltes\", \"subcategoria\"] = \"Esmalte de rakú\"\n",
    "df.loc[df.tipo == \"botz-pro\", \"categoria\"] = \"Óxidos colorantes\"\n",
    "df.loc[df.tipo == \"botz-pro\", \"subcategoria\"] = \"botz-pro\"\n",
    "df.loc[df.tipo == \"strokecoat\", \"categoria\"] = \"Esmaltes\"\n",
    "df.loc[df.tipo == \"strokecoat\", \"subcategoria\"] = \"strokecoat\""
   ]
  },
  {
   "cell_type": "code",
   "execution_count": null,
   "metadata": {},
   "outputs": [],
   "source": [
    "#exploramos la categoría herramientas\n",
    "df.loc[df.subcategoria == \"hornos-ceramica\", \"categoria\"] = \"Horno\"\n",
    "df.loc[df.tipo == \"hornos-ceramica\", \"subcategoria\"] = \"Hornos cerámicos\"\n",
    "\n",
    "df.loc[df.subcategoria == \"hornos-carga\", \"categoria\"] = \"Horno\"\n",
    "df.loc[df.subcategoria == \"hornos-carga\", \"subcategoria\"] = \"Material de estibado para el horno\"\n",
    "\n",
    "df.loc[df.subcategoria == \"laminadoras\", \"categoria\"] = \"Maquinaria\"\n",
    "df.loc[df.subcategoria == \"laminadoras\", \"subcategoria\"] = \"Tornos y laminadoras\"\n",
    "\n",
    "df.loc[df.subcategoria == \"tornos\", \"categoria\"] = \"Maquinaria\"\n",
    "df.loc[df.subcategoria == \"tornos\", \"subcategoria\"] = \"Tornos y laminadoras\"\n",
    "\n",
    "df.loc[df.subcategoria == \"medio-ambiente\", \"categoria\"] = \"Varios\"\n",
    "df.loc[df.subcategoria == \"medio-ambiente\", \"subcategoria\"] = \"Depuradora\"\n",
    "\n",
    "df.loc[df.subcategoria == \"medio-ambiente\", \"categoria\"] = \"Varios\"\n",
    "df.loc[df.subcategoria == \"medio-ambiente\", \"subcategoria\"] = \"plásticos\"\n",
    "\n",
    "df.loc[df.categoria == \"equipamiento\", \"categoria\"] = 'Varios'\n",
    "df.loc[df.tipo == \"plasticos\", \"subcategoria\"] = \"plásticos\""
   ]
  },
  {
   "cell_type": "code",
   "execution_count": null,
   "metadata": {},
   "outputs": [],
   "source": [
    "#categoría herramientas\n",
    "df.loc[df.subcategoria == \"asas_tetera\", \"categoria\"] = \"tercer-fuego\"\n",
    "df.loc[df.subcategoria == \"asas_tetera\", \"subcategoria\"] = \"asas_tetera\"\n",
    "\n",
    "df.loc[df.subcategoria == \"compas\", \"categoria\"] = \"Herramientas\"\n",
    "df.loc[df.subcategoria == \"compas\", \"subcategoria\"] = \"compás\"\n",
    "\n",
    "df.loc[df.subcategoria == \"cortadores\", \"categoria\"] = \"Herramientas\"\n",
    "df.loc[df.subcategoria == \"cortadores\", \"subcategoria\"] = \"cortadores\"\n",
    "\n",
    "df.loc[df.subcategoria == \"espatula \", \"categoria\"] = 'Pinceles/Espátulas pintor'\n",
    "df.loc[df.subcategoria == \"espatula \", \"subcategoria\"] = \"espátulas\"\n",
    "\n",
    "df.loc[df.subcategoria == \"esponjas\", \"categoria\"] = 'Herramientas'\n",
    "df.loc[df.subcategoria == \"esponjas\", \"subcategoria\"] = \"herramientas varias\"\n",
    "\n",
    "df.loc[df.subcategoria == \"extrusora\", \"categoria\"] = 'Herramientas'\n",
    "df.loc[df.subcategoria == \"extrusora\", \"subcategoria\"] = \"herramientas varias\"\n",
    "\n",
    "df.loc[df.subcategoria == \"lijas\", \"categoria\"] = 'Herramientas'\n",
    "df.loc[df.subcategoria == \"lijas\", \"subcategoria\"] = \"herramientas varias\"\n",
    "\n",
    "df.loc[df.subcategoria == \"palillo\", \"categoria\"] = 'Herramientas'\n",
    "df.loc[df.subcategoria == \"palillo\", \"subcategoria\"] = \"palillos modelar\"\n",
    "\n",
    "df.loc[df.subcategoria == \"torneta\", \"categoria\"] = 'Herramientas'\n",
    "df.loc[df.subcategoria == \"torneta\", \"subcategoria\"] = \"Torneta\"\n",
    "\n",
    "df.loc[df.subcategoria == \"pinceles\", \"categoria\"] = 'Pinceles/Espátulas pintor'\n",
    "df.loc[df.subcategoria == \"pinceles\", \"subcategoria\"] = \"Pincel\"\n",
    "\n",
    "\n"
   ]
  },
  {
   "cell_type": "code",
   "execution_count": null,
   "metadata": {},
   "outputs": [],
   "source": [
    "#categoría otros\n",
    "df.loc[df.subcategoria == \"bizcocho-ceramico\", \"categoria\"] = 'tercer-fuego'\n",
    "df.loc[df.subcategoria == \"escayolas\", \"categoria\"] = 'tercer-fuego'\n",
    "df.loc[df.subcategoria == \"auxiliares\", \"categoria\"] = 'Vehículos y aglutinantes'\n",
    "df.loc[df.subcategoria == \"libros\", \"categoria\"] = 'Libros y cursos'\n",
    "df.loc[df.subcategoria == \"cursos-potterygym\", \"categoria\"] = 'Libros y cursos'"
   ]
  },
  {
   "cell_type": "code",
   "execution_count": null,
   "metadata": {},
   "outputs": [],
   "source": [
    "# Función para eliminar el símbolo de euro y convertir a float\n",
    "def limpiar_precio(precio):\n",
    "    if isinstance(precio, float):  # Manejar NaNs\n",
    "        return precio\n",
    "    # Convertir a string\n",
    "    precio = str(precio)\n",
    "    # Reemplaza el símbolo de euro y el espacio en blanco\n",
    "    precio = precio.replace('€', '').replace('–', '').replace(' ', '')\n",
    "    # Reemplaza las comas por puntos para la conversión a float\n",
    "    precio = precio.replace(',', '.')\n",
    "    return precio\n",
    "\n",
    "# Aplicar la función de limpieza a la columna precio\n",
    "df['precio'] = df['precio'].apply(limpiar_precio)\n",
    "\n",
    "# Convertir la columna precio a valores numéricos (float)\n",
    "df['precio'] = pd.to_numeric(df['precio'], errors='coerce')"
   ]
  },
  {
   "cell_type": "code",
   "execution_count": null,
   "metadata": {},
   "outputs": [],
   "source": [
    "#elimino la columna tipo, para homogeneizar con el resto de tiendas\n",
    "df.drop(columns=['tipo'], inplace=True)"
   ]
  },
  {
   "cell_type": "code",
   "execution_count": null,
   "metadata": {},
   "outputs": [],
   "source": [
    "# Convertir columnas a categóricas\n",
    "df['categoria'] = df['categoria'].astype('category')\n",
    "df['tienda'] = df['tienda'].astype('category')"
   ]
  },
  {
   "cell_type": "markdown",
   "metadata": {},
   "source": [
    "### Tras conversación con el usuario final se realizan nuevos cambios"
   ]
  },
  {
   "cell_type": "code",
   "execution_count": null,
   "metadata": {},
   "outputs": [],
   "source": [
    "df.loc[df.categoria == \"tercer-fuego\", \"categoria\"] = 'tercer fuego'\n",
    "df.loc[df.subcategoria == \"acuarelas\", \"categoria\"] = 'Lápices/Tizas cerámicas'\n",
    "df.loc[df.subcategoria == \"Depuradora\", \"categoria\"] = 'Maquinaria'\n",
    "df.loc[df.subcategoria == \"tissue-transfer\", \"categoria\"] = 'tercer fuego'\n",
    "df.loc[df.subcategoria == \"bizcocho-ceramico\", \"categoria\"] = 'Bizcocho'\n",
    "df.loc[df.subcategoria == \"escayolas\", \"categoria\"] = 'Varios'"
   ]
  },
  {
   "cell_type": "code",
   "execution_count": null,
   "metadata": {},
   "outputs": [],
   "source": [
    "df.loc[df.subcategoria == \"vidrio_y_tercer_fuego_850_186_c\", \"categoria\"] = 'Lápices/Tizas cerámicas'\n",
    "df.loc[df.subcategoria == \"vidrio_y_tercer_fuego_850_186_c\", \"subcategoria\"] = 'Rotuladores'\n",
    "df.loc[df.subcategoria == \"asas_tetera\", \"categoria\"] = 'Varios'\n",
    "df.loc[df.categoria == \"otros\", \"subcategoria\"] = 'Moldes y accesorios'\n",
    "df.loc[df.categoria == \"otros\", \"categoria\"] = 'Varios'\n",
    "df.loc[df.categoria == \"Vehículos y aglutinantes\", \"categoria\"] = 'Materias primas'"
   ]
  },
  {
   "cell_type": "code",
   "execution_count": null,
   "metadata": {},
   "outputs": [],
   "source": [
    "df.loc[1282, 'subcategoria'] = 'Elementos protección'\n",
    "df.loc[1282, 'categoria'] = 'Varios'"
   ]
  },
  {
   "cell_type": "code",
   "execution_count": null,
   "metadata": {},
   "outputs": [],
   "source": [
    "df.to_csv(\"marphil.csv\", index=False)"
   ]
  }
 ],
 "metadata": {
  "kernelspec": {
   "display_name": "Python 3",
   "language": "python",
   "name": "python3"
  },
  "language_info": {
   "codemirror_mode": {
    "name": "ipython",
    "version": 3
   },
   "file_extension": ".py",
   "mimetype": "text/x-python",
   "name": "python",
   "nbconvert_exporter": "python",
   "pygments_lexer": "ipython3",
   "version": "3.12.3"
  }
 },
 "nbformat": 4,
 "nbformat_minor": 2
}
