{
 "cells": [
  {
   "cell_type": "code",
   "execution_count": null,
   "metadata": {},
   "outputs": [],
   "source": [
    "import pandas as pd\n",
    "import numpy as np"
   ]
  },
  {
   "cell_type": "code",
   "execution_count": null,
   "metadata": {},
   "outputs": [],
   "source": [
    "df = pd.read_csv(\"anper.csv\")"
   ]
  },
  {
   "cell_type": "code",
   "execution_count": null,
   "metadata": {},
   "outputs": [],
   "source": [
    "#la categoría Libros la pasamos a Libros y cursos, dejando Libros en la subcategoría\n",
    "df.loc[df.categoria == \"Libros\", \"subcategoria\"] = \"Libros\"\n",
    "df.loc[df.categoria == \"Libros\", \"categoria\"] = 'Libros y cursos'"
   ]
  },
  {
   "cell_type": "code",
   "execution_count": null,
   "metadata": {},
   "outputs": [],
   "source": [
    "#las categorías de Arcillas las ponemos como subcategorías pertenientes a \"Arcillas\"\n",
    "df.loc[df.categoria == \"Arcilla Alta temperatura\", \"subcategoria\"] = \"Arcillas alta temperatura\"\n",
    "df.loc[df.categoria == \"Arcilla Alta temperatura\", \"categoria\"] = 'Arcillas'\n",
    "\n",
    "df.loc[df.categoria == \"Arcilla Baja temperatura\", \"subcategoria\"] = \"Arcillas alta temperatura\"\n",
    "df.loc[df.categoria == \"Arcilla Baja temperatura\", \"categoria\"] = 'Arcillas'"
   ]
  },
  {
   "cell_type": "code",
   "execution_count": null,
   "metadata": {},
   "outputs": [],
   "source": [
    "df.loc[df.categoria == \"Baldosas\", \"subcategoria\"] = \"Azulejos\"\n",
    "df.loc[df.categoria == \"Baldosas\", \"categoria\"] = 'tercer-fuego'\n",
    "df.loc[df.categoria == \"3er Fuego\", \"categoria\"] = 'tercer-fuego'"
   ]
  },
  {
   "cell_type": "code",
   "execution_count": null,
   "metadata": {},
   "outputs": [],
   "source": [
    "df.loc[df.categoria == \"Construcción de hornos\", \"categoria\"] = 'Horno'\n",
    "df.loc[df.categoria == \"Materiales para hornear\", \"subcategoria\"] = \"Material de estibado para el horno\"\n",
    "df.loc[df.categoria == \"Materiales para hornear\", \"categoria\"] = 'Horno'\n",
    "df.loc[df.categoria == \"Hornos\", \"categoria\"] = 'Horno'\n",
    "df.loc[df.categoria == \"Pirometría\", \"categoria\"] = 'Horno'"
   ]
  },
  {
   "cell_type": "code",
   "execution_count": null,
   "metadata": {},
   "outputs": [],
   "source": [
    "df.loc[df.categoria == \"Pinceles\", \"subcategoria\"] = \"Pincel\"\n",
    "df.loc[df.categoria == \"Pinceles\", \"categoria\"] = 'Pinceles/Espátulas pintor'"
   ]
  },
  {
   "cell_type": "code",
   "execution_count": null,
   "metadata": {},
   "outputs": [],
   "source": [
    "df.loc[df.categoria == \"Tornos\", \"subcategoria\"] = \"Tornos y laminadoras\"\n",
    "df.loc[df.categoria == \"Tornos\", \"categoria\"] = 'Maquinaria'"
   ]
  },
  {
   "cell_type": "code",
   "execution_count": null,
   "metadata": {},
   "outputs": [],
   "source": [
    "df.loc[df.categoria == \"Elementos protección\", \"subcategoria\"] = \"Elementos protección\"\n",
    "df.loc[df.categoria == \"Elementos protección\", \"categoria\"] = 'Varios'\n",
    "df.loc[df.categoria == \"Complementos\", \"categoria\"] = 'Varios'"
   ]
  },
  {
   "cell_type": "code",
   "execution_count": null,
   "metadata": {},
   "outputs": [],
   "source": [
    "df.loc[df.categoria == \"Moldes y accesorios\", \"subcategoria\"] = \"Moldes y accesorios\"\n",
    "df.loc[df.categoria == \"Moldes y accesorios\", \"categoria\"] = 'Varios'"
   ]
  },
  {
   "cell_type": "code",
   "execution_count": null,
   "metadata": {},
   "outputs": [],
   "source": [
    "df.loc[df.categoria == \"Rotulador Cerámico\", \"subcategoria\"] = \"Rotulador Cerámico\"\n",
    "df.loc[df.categoria == \"Rotulador Cerámico\", \"categoria\"] = 'Lápices/Tizas cerámicas'"
   ]
  },
  {
   "cell_type": "code",
   "execution_count": null,
   "metadata": {},
   "outputs": [],
   "source": [
    "df.loc[df.categoria == \"Cristalizaciones\", \"subcategoria\"] = \"Cristalizaciones\"\n",
    "df.loc[df.categoria == \"Cristalizaciones\", \"categoria\"] = 'Materias primas'"
   ]
  },
  {
   "cell_type": "code",
   "execution_count": null,
   "metadata": {},
   "outputs": [],
   "source": [
    "#paso valores a tipo de dato categórico\n",
    "df['categoria'] = df['categoria'].astype('category')\n",
    "df['tienda'] = df['tienda'].astype('category')"
   ]
  },
  {
   "cell_type": "code",
   "execution_count": null,
   "metadata": {},
   "outputs": [],
   "source": [
    "def procesar_precios(precio):\n",
    "    if not precio:  # Verifica si la cadena está vacía\n",
    "        return [('N/A', 0.0)]\n",
    "    \n",
    "    # Dividir los valores por '\\n'\n",
    "    items = precio.split('\\n')\n",
    "    result = []\n",
    "    \n",
    "    if len(items) > 1:\n",
    "        for i in range(0, len(items), 2):\n",
    "            if i+1 < len(items):\n",
    "                cantidad = items[i]\n",
    "                try:\n",
    "                    precio_valor = float(items[i+1].replace('€', '').replace(',', '.'))\n",
    "                except ValueError:\n",
    "                    precio_valor = 0.0  # Maneja valores no numéricos o mal formateados\n",
    "                result.append((cantidad, precio_valor))\n",
    "    else:\n",
    "        # Si no tiene el formato esperado, asumir que es un precio único\n",
    "        try:\n",
    "            precio_valor = float(precio.replace('€', '').replace(',', '.'))\n",
    "        except ValueError:\n",
    "            precio_valor = 0.0  # Maneja valores no numéricos o mal formateados\n",
    "        result.append(('N/A', precio_valor))  # 'N/A' para indicar que no hay cantidad específica\n",
    "    \n",
    "    return result\n",
    "\n",
    "# Aplicar la función a la columna precio\n",
    "df['precios_procesados'] = df['precio'].apply(procesar_precios)\n",
    "\n",
    "# Crear un nuevo DataFrame con las cantidades y precios\n",
    "filas = []\n",
    "for idx, row in df.iterrows():\n",
    "    for cantidad, precio in row['precios_procesados']:\n",
    "        filas.append({'Cantidad': cantidad, 'Precio': precio})"
   ]
  },
  {
   "cell_type": "code",
   "execution_count": null,
   "metadata": {},
   "outputs": [],
   "source": [
    "df = df.explode('precios_procesados')\n",
    "df[['Cantidad', 'precio_final']] = pd.DataFrame(df['precios_procesados'].tolist(), index=df.index)"
   ]
  },
  {
   "cell_type": "code",
   "execution_count": null,
   "metadata": {},
   "outputs": [],
   "source": [
    "#si el valor en cantidad no es N/A lo apendeo a la columna nombre\n",
    "df['nombre'] = df.apply(\n",
    "    lambda row: f\"{row['nombre']} {row['Cantidad']}\" if row['Cantidad'] != 'N/A' else row['nombre'], axis=1\n",
    ")"
   ]
  },
  {
   "cell_type": "code",
   "execution_count": null,
   "metadata": {},
   "outputs": [],
   "source": [
    "df = df.drop(columns=['precio_final', 'Cantidad', 'precios_procesados','descripcion'])"
   ]
  },
  {
   "cell_type": "code",
   "execution_count": null,
   "metadata": {},
   "outputs": [],
   "source": [
    "df.to_csv(\"anper.csv\", index=False)"
   ]
  }
 ],
 "metadata": {
  "language_info": {
   "name": "python"
  }
 },
 "nbformat": 4,
 "nbformat_minor": 2
}
