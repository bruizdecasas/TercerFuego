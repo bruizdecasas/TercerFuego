{
 "cells": [
  {
   "cell_type": "code",
   "execution_count": 1,
   "metadata": {},
   "outputs": [],
   "source": [
    "import pandas as pd\n",
    "import numpy as np\n",
    "import re\n",
    "pd.options.display.max_columns = None"
   ]
  },
  {
   "cell_type": "code",
   "execution_count": null,
   "metadata": {},
   "outputs": [],
   "source": [
    "df = pd.read_csv(\"productos.csv\")"
   ]
  },
  {
   "cell_type": "code",
   "execution_count": null,
   "metadata": {},
   "outputs": [],
   "source": [
    "# Extraer patrones de peso en Kg y gr en columnas temporales\n",
    "df['peso_kg'] = df['nombre'].str.extract(r'(\\d+[,.]?\\d*\\s?[Kk][gG])', expand=False)\n",
    "df['peso_gr'] = df['nombre'].str.extract(r'(\\d+\\s?gr)', expand=False)\n",
    "\n",
    "# combinar los valores existentes\n",
    "df['peso'] = df['peso'].combine_first(df['peso_kg']).combine_first(df['peso_gr'])\n",
    "\n",
    "# Eliminar las columnas temporales\n",
    "df.drop(columns=['peso_kg', 'peso_gr'], inplace=True)"
   ]
  },
  {
   "cell_type": "code",
   "execution_count": null,
   "metadata": {},
   "outputs": [],
   "source": [
    "df['peso'] = df['peso'].str.replace('.', ',')\n",
    "# Eliminar espacios en blanco al principio y al final, y entre medio de cada valor en 'peso'\n",
    "df['peso'] = df['peso'].str.strip().str.replace(r'\\s+', '', regex=True)"
   ]
  },
  {
   "cell_type": "code",
   "execution_count": null,
   "metadata": {},
   "outputs": [],
   "source": [
    "#creo una nueva columna, que me indicará si la arcilla es chamotada o no\n",
    "df['chamota'] = df.apply(\n",
    "    lambda row: (\n",
    "        True if row['categoria'] == 'Arcillas' and re.search(r'\\d+[-,.]?\\d*mm|Chamot|chamot', row['nombre']) and 'sin chamota' not in row['nombre'].lower() \n",
    "        else False if row['categoria'] == 'Arcillas' and 'sin chamota' in row['nombre'].lower() \n",
    "        else None\n",
    "    ), axis=1\n",
    ")"
   ]
  },
  {
   "cell_type": "code",
   "execution_count": null,
   "metadata": {},
   "outputs": [],
   "source": [
    "# Condiciones y opciones para la columna 'tipo'\n",
    "condition_1 = df['categoria'] == 'Arcillas'\n",
    "condition_2 = df['nombre'].str.contains('porcelana|Porcelana', case=False, na=False)\n",
    "condition_3 = df['nombre'].str.contains('Refract|refract', case=False, na=False)\n",
    "condition_4 = df['nombre'].str.contains('Gres|gres', case=False, na=False)\n",
    "condition_5 = df['nombre'].str.contains('Terracota', case=False, na=False)\n",
    "\n",
    "# Crear la columna 'tipo' basada en las condiciones\n",
    "df['tipo'] = np.select(\n",
    "    [condition_1 & condition_2, condition_1 & condition_3, condition_1 & condition_4, condition_1 & condition_5],\n",
    "    ['Porcelana', 'Refractario', 'Gres', 'Terracota'],\n",
    "    default=None\n",
    ")"
   ]
  },
  {
   "cell_type": "code",
   "execution_count": null,
   "metadata": {},
   "outputs": [],
   "source": [
    "# Expresión regular para encontrar el formato de capacidad en litros con \"L\" obligatoria\n",
    "pattern = re.compile(r'(\\d+(?:[.,]\\d+)?)\\s?[lL][iI]?[tT]?[rR]?[oO]?[sS]?|(\\d+(?:[.,]\\d+)?\\s?[lL])')\n",
    "\n",
    "# Función para extraer la capacidad y formatearla adecuadamente\n",
    "def extract_capacidad(nombre):\n",
    "    match = pattern.search(nombre)\n",
    "    if match:\n",
    "        number = re.findall(r'\\d+(?:[.,]\\d+)?', match.group(0))[0]\n",
    "        return number.replace(',', '.') + 'L'  # Ensure consistent formatting\n",
    "    return None\n",
    "\n",
    "# Aplicar la función a la columna nombre y crear la nueva columna capacidad\n",
    "df['capacidad'] = df['nombre'].apply(extract_capacidad)"
   ]
  },
  {
   "cell_type": "code",
   "execution_count": null,
   "metadata": {},
   "outputs": [],
   "source": [
    "# Expresión regular para encontrar los formatos de tamaño\n",
    "pattern_size = re.compile(r'(\\d+(?:[.,]?\\d*)\\s?[xX×]\\s?\\d+(?:[.,]?\\d*)(?:\\s?[xX×]\\s?\\d+(?:[.,]?\\d*)?)?\\s?(?:mm|cm|m)?)|(\\d+(?:[.,]?\\d*)\\s?(?:mm|cm|m))')\n",
    "\n",
    "# Función para extraer el tamaño\n",
    "def extract_size(nombre):\n",
    "    match = pattern_size.search(nombre)\n",
    "    if match:\n",
    "        return match.group(0).replace('×', 'x').replace(' ', '')\n",
    "    return None\n",
    "\n",
    "# Aplicar la función a la columna nombre y crear la nueva columna tamaño\n",
    "df['tamaño'] = df['nombre'].apply(extract_size)"
   ]
  },
  {
   "cell_type": "code",
   "execution_count": null,
   "metadata": {},
   "outputs": [],
   "source": [
    "# Función para actualizar la subcategoría\n",
    "def actualizar_subcategoria(row):\n",
    "    if row['categoria'] == 'Maquinaria':\n",
    "        if 'Galletera' in row['nombre']:\n",
    "            return 'Galleteras'\n",
    "        elif 'Extrusionadora' in row['nombre']:\n",
    "            return 'Extrusionadoras'\n",
    "        elif 'Torno' in row['nombre'] or 'torno' in row['nombre']:\n",
    "            return 'Tornos'\n",
    "        elif 'Laminadora' in row['nombre']:\n",
    "            return 'Laminadoras'\n",
    "    return row['subcategoria']\n",
    "\n",
    "# Aplicar la función al DataFrame\n",
    "df['subcategoria'] = df.apply(actualizar_subcategoria, axis=1)"
   ]
  },
  {
   "cell_type": "code",
   "execution_count": null,
   "metadata": {},
   "outputs": [],
   "source": [
    "# Función para actualizar la subcategoría\n",
    "def actualizar_subcategoria(row):\n",
    "    if row['categoria'] == 'Herramientas':\n",
    "        if 'Vaciador' in row['nombre']:\n",
    "            return 'Vaciadores'\n",
    "        elif \"VACIADOR\" in row['nombre']:\n",
    "            return 'Vaciadores'\n",
    "        elif 'Tamiz' in row['nombre']:\n",
    "            return 'Tamices'\n",
    "        elif \"Pera\" in row['nombre']:\n",
    "            return \"Peras\"\n",
    "        elif \"Palillo\" in row['nombre']:\n",
    "            return \"Palillos modelar\"\n",
    "        elif \"Perforador\" in row['nombre']:\n",
    "            return \"Perforadores\"\n",
    "    return row['subcategoria']\n",
    "\n",
    "# Aplicar la función al DataFrame\n",
    "df['subcategoria'] = df.apply(actualizar_subcategoria, axis=1)"
   ]
  },
  {
   "cell_type": "code",
   "execution_count": null,
   "metadata": {},
   "outputs": [],
   "source": [
    "# Aplicar el cambio de subcategoría según la condición\n",
    "filtro = (df['categoria'] == 'Lápices y tizas cerámicas') & (df['subcategoria'] == 'Elementos protección')\n",
    "df.loc[filtro, 'subcategoria'] = 'Tizas'"
   ]
  },
  {
   "cell_type": "code",
   "execution_count": null,
   "metadata": {},
   "outputs": [],
   "source": [
    "#para terminar paso los datos de estas columnas a categóricas\n",
    "df['categoria'] = df['categoria'].astype('category')\n",
    "df['subcategoria'] = df['subcategoria'].astype('category')\n",
    "df['tienda'] = df['tienda'].astype('category')\n",
    "df['tipo'] = df['tipo'].astype('category')\n",
    "df['tienda'] = df['tienda'].astype('category')\n",
    "df['chamota'] = df['chamota'].astype('boolean')"
   ]
  },
  {
   "cell_type": "code",
   "execution_count": null,
   "metadata": {},
   "outputs": [],
   "source": [
    "df.to_csv(\"productos.csv\", index=False)"
   ]
  }
 ],
 "metadata": {
  "kernelspec": {
   "display_name": "Python 3",
   "language": "python",
   "name": "python3"
  },
  "language_info": {
   "codemirror_mode": {
    "name": "ipython",
    "version": 3
   },
   "file_extension": ".py",
   "mimetype": "text/x-python",
   "name": "python",
   "nbconvert_exporter": "python",
   "pygments_lexer": "ipython3",
   "version": "3.12.3"
  }
 },
 "nbformat": 4,
 "nbformat_minor": 2
}
