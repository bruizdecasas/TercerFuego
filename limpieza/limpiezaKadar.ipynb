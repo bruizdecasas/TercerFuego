{
 "cells": [
  {
   "cell_type": "code",
   "execution_count": null,
   "metadata": {},
   "outputs": [],
   "source": [
    "import pandas as pd\n",
    "import numpy as np"
   ]
  },
  {
   "cell_type": "code",
   "execution_count": null,
   "metadata": {},
   "outputs": [],
   "source": [
    "#paso el csv a un dataFrame para limpiarlo\n",
    "df = pd.read_csv(\"kadar.csv\")"
   ]
  },
  {
   "cell_type": "code",
   "execution_count": null,
   "metadata": {},
   "outputs": [],
   "source": [
    "df.info()"
   ]
  },
  {
   "cell_type": "code",
   "execution_count": null,
   "metadata": {},
   "outputs": [],
   "source": [
    "df.sample(10)"
   ]
  },
  {
   "cell_type": "code",
   "execution_count": null,
   "metadata": {},
   "outputs": [],
   "source": [
    "# Eliminar el símbolo € y los puntos, luego reemplazar la coma por un punto decimal para poder convertir los precios en float\n",
    "df['precio'] = df['precio'].str.replace('€', '', regex=False).str.replace('.', '', regex=False).str.replace(',', '.')\n",
    "df['precio'] = df['precio'].astype(float)"
   ]
  },
  {
   "cell_type": "code",
   "execution_count": null,
   "metadata": {},
   "outputs": [],
   "source": [
    "#voy a homogeneizar las categorías que puedo encontrar en las tiendas\n",
    "df.categoria.unique()"
   ]
  },
  {
   "cell_type": "code",
   "execution_count": null,
   "metadata": {},
   "outputs": [],
   "source": [
    "#acorto el nombre de la categoria\n",
    "df.loc[df['categoria'] == 'Arcillas alta y baja temperatura', 'categoria'] = 'Arcillas'"
   ]
  },
  {
   "cell_type": "code",
   "execution_count": null,
   "metadata": {},
   "outputs": [],
   "source": [
    "#voy a incluir el material de estibado para el horno como una subcategoria de herramientas\n",
    "df.loc[df.categoria == \"Material de estibado para el horno\", \"subcategoria\"] = \"Material de estibado para el horno\"\n",
    "df.loc[df.categoria == \"Material de estibado para el horno\", \"categoria\"] = \"Herramientas\""
   ]
  },
  {
   "cell_type": "code",
   "execution_count": null,
   "metadata": {},
   "outputs": [],
   "source": [
    "# Verifica si la columna 'nombre' contiene la palabra 'Pincel'\n",
    "filtro = df['nombre'].str.contains('Pincel', case=False)\n",
    "# Asigna 'pincel' a la columna 'subcategoria' donde se cumple la condición\n",
    "df.loc[filtro, 'subcategoria'] = 'Pincel'\n",
    "# Verifica si la columna 'nombre' contiene la palabra 'Espátula'\n",
    "filtro = df['nombre'].str.contains('Espátula', case=False)\n",
    "# Asigna 'Espátula' a la columna 'subcategoria' donde se cumple la condición\n",
    "df.loc[filtro, 'subcategoria'] = 'Espátula'"
   ]
  },
  {
   "cell_type": "code",
   "execution_count": null,
   "metadata": {},
   "outputs": [],
   "source": [
    "#las categorias de esmaltes las uno y hago la distinción de esmaltes dentro de la subcategoria\n",
    "df.loc[df['categoria'] == 'Esmaltes alta temperatura 1230-1280ºC', 'subcategoria'] = 'Esmaltes alta temperatura 1230-1280ºC'\n",
    "df.loc[df['categoria'] == 'Esmaltes alta temperatura 1230-1280ºC', 'categoria'] = 'Esmaltes'\n",
    "df.loc[df['categoria'] == 'Esmaltes de baja temperatura', 'categoria'] = 'Esmaltes'"
   ]
  },
  {
   "cell_type": "code",
   "execution_count": null,
   "metadata": {},
   "outputs": [],
   "source": [
    "#los hornos los pongo en su propia categoria\n",
    "# Verifica si la columna 'subcategoria' contiene la palabra 'Horno'\n",
    "filtro = df['subcategoria'].str.contains('Horno', case=False)\n",
    "# Asigna 'Horno' a la columna 'categoria' donde se cumple la condición\n",
    "df.loc[filtro, 'categoria'] = 'Horno'\n",
    "#asigno al resto de la categoria solamente \"Maquinaria\"\n",
    "df.loc[df.categoria == \"Maquinaria y Hornos\", \"categoria\"] = \"Maquinaria\""
   ]
  },
  {
   "cell_type": "code",
   "execution_count": null,
   "metadata": {},
   "outputs": [],
   "source": [
    "#la categoría 'Azulejos' la pasamos a una subcategoría dentro de la nueva categoría \"tercer-fuego\"\n",
    "df.loc[df.categoria == \"Azulejos\", \"subcategoria\"] = \"Azulejos\"\n",
    "df.loc[df.categoria == \"Azulejos\", \"categoria\"] = \"Varios\""
   ]
  },
  {
   "cell_type": "code",
   "execution_count": null,
   "metadata": {},
   "outputs": [],
   "source": [
    "#la categoría de \"Colores para porcelana\" la pasamos a una subcategoría de \"Varios\"\n",
    "df.loc[df.categoria == \"Colores para porcelana\", \"subcategoria\"] = \"Colores para porcelana\"\n",
    "df.loc[df.categoria == \"Colores para porcelana\", \"categoria\"] = \"Varios\""
   ]
  }
 ],
 "metadata": {
  "language_info": {
   "name": "python"
  }
 },
 "nbformat": 4,
 "nbformat_minor": 2
}
