{
 "cells": [
  {
   "cell_type": "code",
   "execution_count": 2,
   "metadata": {},
   "outputs": [],
   "source": [
    "import pandas as pd\n",
    "import numpy as np"
   ]
  },
  {
   "cell_type": "code",
   "execution_count": 3,
   "metadata": {},
   "outputs": [],
   "source": [
    "#paso el csv a un dataFrame para limpiarlo\n",
    "df = pd.read_csv(\"kadar.csv\")"
   ]
  },
  {
   "cell_type": "code",
   "execution_count": 7,
   "metadata": {},
   "outputs": [],
   "source": [
    "df = df.rename(columns={'Tienda': 'tienda'})"
   ]
  },
  {
   "cell_type": "code",
   "execution_count": 6,
   "metadata": {},
   "outputs": [
    {
     "data": {
      "text/html": [
       "<div>\n",
       "<style scoped>\n",
       "    .dataframe tbody tr th:only-of-type {\n",
       "        vertical-align: middle;\n",
       "    }\n",
       "\n",
       "    .dataframe tbody tr th {\n",
       "        vertical-align: top;\n",
       "    }\n",
       "\n",
       "    .dataframe thead th {\n",
       "        text-align: right;\n",
       "    }\n",
       "</style>\n",
       "<table border=\"1\" class=\"dataframe\">\n",
       "  <thead>\n",
       "    <tr style=\"text-align: right;\">\n",
       "      <th></th>\n",
       "      <th>categoria</th>\n",
       "      <th>subcategoria</th>\n",
       "      <th>nombre</th>\n",
       "      <th>precio</th>\n",
       "      <th>url</th>\n",
       "      <th>Tienda</th>\n",
       "    </tr>\n",
       "  </thead>\n",
       "  <tbody>\n",
       "    <tr>\n",
       "      <th>0</th>\n",
       "      <td>Arcillas</td>\n",
       "      <td>Arcillas alta temperatura</td>\n",
       "      <td>ART 13 atomizado gres colada</td>\n",
       "      <td>12.25</td>\n",
       "      <td>https://kadarceramica.com/producto/art-13-atom...</td>\n",
       "      <td>Kadar</td>\n",
       "    </tr>\n",
       "    <tr>\n",
       "      <th>1</th>\n",
       "      <td>Arcillas</td>\n",
       "      <td>Arcillas alta temperatura</td>\n",
       "      <td>Gres CH</td>\n",
       "      <td>9.25</td>\n",
       "      <td>https://kadarceramica.com/producto/gres-ch/</td>\n",
       "      <td>Kadar</td>\n",
       "    </tr>\n",
       "    <tr>\n",
       "      <th>2</th>\n",
       "      <td>Arcillas</td>\n",
       "      <td>Arcillas alta temperatura</td>\n",
       "      <td>Gres CT</td>\n",
       "      <td>9.25</td>\n",
       "      <td>https://kadarceramica.com/producto/gres-ct/</td>\n",
       "      <td>Kadar</td>\n",
       "    </tr>\n",
       "    <tr>\n",
       "      <th>3</th>\n",
       "      <td>Arcillas</td>\n",
       "      <td>Arcillas alta temperatura</td>\n",
       "      <td>Gres de papel PCLI</td>\n",
       "      <td>12.77</td>\n",
       "      <td>https://kadarceramica.com/producto/2429/</td>\n",
       "      <td>Kadar</td>\n",
       "    </tr>\n",
       "    <tr>\n",
       "      <th>4</th>\n",
       "      <td>Arcillas</td>\n",
       "      <td>Arcillas alta temperatura</td>\n",
       "      <td>Gres Zumaia chamota fina</td>\n",
       "      <td>14.05</td>\n",
       "      <td>https://kadarceramica.com/producto/gres-zumaia...</td>\n",
       "      <td>Kadar</td>\n",
       "    </tr>\n",
       "    <tr>\n",
       "      <th>...</th>\n",
       "      <td>...</td>\n",
       "      <td>...</td>\n",
       "      <td>...</td>\n",
       "      <td>...</td>\n",
       "      <td>...</td>\n",
       "      <td>...</td>\n",
       "    </tr>\n",
       "    <tr>\n",
       "      <th>380</th>\n",
       "      <td>Vehículos y aglutinantes</td>\n",
       "      <td>no tiene</td>\n",
       "      <td>Serifix</td>\n",
       "      <td>1.40</td>\n",
       "      <td>https://kadarceramica.com/producto/serifix/</td>\n",
       "      <td>Kadar</td>\n",
       "    </tr>\n",
       "    <tr>\n",
       "      <th>381</th>\n",
       "      <td>Vehículos y aglutinantes</td>\n",
       "      <td>no tiene</td>\n",
       "      <td>Serograf 3º fuego</td>\n",
       "      <td>3.65</td>\n",
       "      <td>https://kadarceramica.com/producto/serograf/</td>\n",
       "      <td>Kadar</td>\n",
       "    </tr>\n",
       "    <tr>\n",
       "      <th>382</th>\n",
       "      <td>Vehículos y aglutinantes</td>\n",
       "      <td>no tiene</td>\n",
       "      <td>Seroil CS 71</td>\n",
       "      <td>2.97</td>\n",
       "      <td>https://kadarceramica.com/producto/seroil-cs-71/</td>\n",
       "      <td>Kadar</td>\n",
       "    </tr>\n",
       "    <tr>\n",
       "      <th>383</th>\n",
       "      <td>Vehículos y aglutinantes</td>\n",
       "      <td>no tiene</td>\n",
       "      <td>Solución de película para calcas 406/THIX</td>\n",
       "      <td>28.40</td>\n",
       "      <td>https://kadarceramica.com/producto/solucion-pe...</td>\n",
       "      <td>Kadar</td>\n",
       "    </tr>\n",
       "    <tr>\n",
       "      <th>384</th>\n",
       "      <td>Vehículos y aglutinantes</td>\n",
       "      <td>no tiene</td>\n",
       "      <td>Suspensivo líquido</td>\n",
       "      <td>1.80</td>\n",
       "      <td>https://kadarceramica.com/producto/suspensivo-...</td>\n",
       "      <td>Kadar</td>\n",
       "    </tr>\n",
       "  </tbody>\n",
       "</table>\n",
       "<p>385 rows × 6 columns</p>\n",
       "</div>"
      ],
      "text/plain": [
       "                    categoria               subcategoria  \\\n",
       "0                    Arcillas  Arcillas alta temperatura   \n",
       "1                    Arcillas  Arcillas alta temperatura   \n",
       "2                    Arcillas  Arcillas alta temperatura   \n",
       "3                    Arcillas  Arcillas alta temperatura   \n",
       "4                    Arcillas  Arcillas alta temperatura   \n",
       "..                        ...                        ...   \n",
       "380  Vehículos y aglutinantes                   no tiene   \n",
       "381  Vehículos y aglutinantes                   no tiene   \n",
       "382  Vehículos y aglutinantes                   no tiene   \n",
       "383  Vehículos y aglutinantes                   no tiene   \n",
       "384  Vehículos y aglutinantes                   no tiene   \n",
       "\n",
       "                                        nombre  precio  \\\n",
       "0                 ART 13 atomizado gres colada   12.25   \n",
       "1                                      Gres CH    9.25   \n",
       "2                                      Gres CT    9.25   \n",
       "3                           Gres de papel PCLI   12.77   \n",
       "4                     Gres Zumaia chamota fina   14.05   \n",
       "..                                         ...     ...   \n",
       "380                                    Serifix    1.40   \n",
       "381                          Serograf 3º fuego    3.65   \n",
       "382                               Seroil CS 71    2.97   \n",
       "383  Solución de película para calcas 406/THIX   28.40   \n",
       "384                         Suspensivo líquido    1.80   \n",
       "\n",
       "                                                   url Tienda  \n",
       "0    https://kadarceramica.com/producto/art-13-atom...  Kadar  \n",
       "1          https://kadarceramica.com/producto/gres-ch/  Kadar  \n",
       "2          https://kadarceramica.com/producto/gres-ct/  Kadar  \n",
       "3             https://kadarceramica.com/producto/2429/  Kadar  \n",
       "4    https://kadarceramica.com/producto/gres-zumaia...  Kadar  \n",
       "..                                                 ...    ...  \n",
       "380        https://kadarceramica.com/producto/serifix/  Kadar  \n",
       "381       https://kadarceramica.com/producto/serograf/  Kadar  \n",
       "382   https://kadarceramica.com/producto/seroil-cs-71/  Kadar  \n",
       "383  https://kadarceramica.com/producto/solucion-pe...  Kadar  \n",
       "384  https://kadarceramica.com/producto/suspensivo-...  Kadar  \n",
       "\n",
       "[385 rows x 6 columns]"
      ]
     },
     "execution_count": 6,
     "metadata": {},
     "output_type": "execute_result"
    }
   ],
   "source": [
    "df"
   ]
  },
  {
   "cell_type": "code",
   "execution_count": null,
   "metadata": {},
   "outputs": [],
   "source": [
    "df.info()"
   ]
  },
  {
   "cell_type": "code",
   "execution_count": 5,
   "metadata": {},
   "outputs": [],
   "source": [
    "df = df.drop(columns=['descripcion'])"
   ]
  },
  {
   "cell_type": "code",
   "execution_count": null,
   "metadata": {},
   "outputs": [],
   "source": [
    "# Eliminar el símbolo € y los puntos, luego reemplazar la coma por un punto decimal para poder convertir los precios en float\n",
    "df['precio'] = df['precio'].str.replace('€', '', regex=False).str.replace('.', '', regex=False).str.replace(',', '.')\n",
    "df['precio'] = df['precio'].astype(float)"
   ]
  },
  {
   "cell_type": "code",
   "execution_count": null,
   "metadata": {},
   "outputs": [],
   "source": [
    "#voy a homogeneizar las categorías que puedo encontrar en las tiendas\n",
    "df.categoria.unique()"
   ]
  },
  {
   "cell_type": "code",
   "execution_count": null,
   "metadata": {},
   "outputs": [],
   "source": [
    "#acorto el nombre de la categoria\n",
    "df.loc[df['categoria'] == 'Arcillas alta y baja temperatura', 'categoria'] = 'Arcillas'"
   ]
  },
  {
   "cell_type": "code",
   "execution_count": null,
   "metadata": {},
   "outputs": [],
   "source": [
    "#voy a incluir el material de estibado para el horno como una subcategoria de herramientas\n",
    "df.loc[df.categoria == \"Material de estibado para el horno\", \"subcategoria\"] = \"Material de estibado para el horno\"\n",
    "df.loc[df.categoria == \"Material de estibado para el horno\", \"categoria\"] = \"Herramientas\""
   ]
  },
  {
   "cell_type": "code",
   "execution_count": null,
   "metadata": {},
   "outputs": [],
   "source": [
    "# Verifica si la columna 'nombre' contiene la palabra 'Pincel'\n",
    "filtro = df['nombre'].str.contains('Pincel', case=False)\n",
    "# Asigna 'pincel' a la columna 'subcategoria' donde se cumple la condición\n",
    "df.loc[filtro, 'subcategoria'] = 'Pincel'\n",
    "# Verifica si la columna 'nombre' contiene la palabra 'Espátula'\n",
    "filtro = df['nombre'].str.contains('Espátula', case=False)\n",
    "# Asigna 'Espátula' a la columna 'subcategoria' donde se cumple la condición\n",
    "df.loc[filtro, 'subcategoria'] = 'Espátula'"
   ]
  },
  {
   "cell_type": "code",
   "execution_count": null,
   "metadata": {},
   "outputs": [],
   "source": [
    "#las categorias de esmaltes las uno y hago la distinción de esmaltes dentro de la subcategoria\n",
    "df.loc[df['categoria'] == 'Esmaltes alta temperatura 1230-1280ºC', 'subcategoria'] = 'Esmaltes alta temperatura 1230-1280ºC'\n",
    "df.loc[df['categoria'] == 'Esmaltes alta temperatura 1230-1280ºC', 'categoria'] = 'Esmaltes'\n",
    "df.loc[df['categoria'] == 'Esmaltes de baja temperatura', 'categoria'] = 'Esmaltes'"
   ]
  },
  {
   "cell_type": "code",
   "execution_count": null,
   "metadata": {},
   "outputs": [],
   "source": [
    "#los hornos los pongo en su propia categoria\n",
    "# Verifica si la columna 'subcategoria' contiene la palabra 'Horno'\n",
    "filtro = df['subcategoria'].str.contains('Horno', case=False)\n",
    "# Asigna 'Horno' a la columna 'categoria' donde se cumple la condición\n",
    "df.loc[filtro, 'categoria'] = 'Horno'\n",
    "#asigno al resto de la categoria solamente \"Maquinaria\"\n",
    "df.loc[df.categoria == \"Maquinaria y Hornos\", \"categoria\"] = \"Maquinaria\""
   ]
  },
  {
   "cell_type": "code",
   "execution_count": null,
   "metadata": {},
   "outputs": [],
   "source": [
    "#la categoría 'Azulejos' la pasamos a una subcategoría dentro de la nueva categoría \"tercer-fuego\"\n",
    "df.loc[df.categoria == \"Azulejos\", \"subcategoria\"] = \"Azulejos\"\n",
    "df.loc[df.categoria == \"Azulejos\", \"categoria\"] = \"Varios\""
   ]
  },
  {
   "cell_type": "code",
   "execution_count": null,
   "metadata": {},
   "outputs": [],
   "source": [
    "#la categoría de \"Colores para porcelana\" la pasamos a una subcategoría de \"Varios\"\n",
    "df.loc[df.categoria == \"Colores para porcelana\", \"subcategoria\"] = \"Colores para porcelana\"\n",
    "df.loc[df.categoria == \"Colores para porcelana\", \"categoria\"] = \"Varios\""
   ]
  },
  {
   "cell_type": "markdown",
   "metadata": {},
   "source": [
    "### Tras conversación con el usuario final se realizan nuevos cambios"
   ]
  },
  {
   "cell_type": "code",
   "execution_count": null,
   "metadata": {},
   "outputs": [],
   "source": [
    "df.loc[df['nombre'].str.contains('Torno', case=False, na=False), 'subcategoria'] = 'Tornos'\n",
    "df.loc[df['nombre'].str.contains('Laminadora', case=False, na=False), 'subcategoria'] = 'Laminadoras'"
   ]
  },
  {
   "cell_type": "code",
   "execution_count": null,
   "metadata": {},
   "outputs": [],
   "source": [
    "df.loc[df.categoria == \"tercer-fuego\", \"categoria\"] = 'tercer fuego'\n",
    "df.loc[df.categoria == \"Azulejos\", \"categoria\"] = 'Bizcocho'\n",
    "df.loc[df.subcategoria == \"Torneta\", \"categoria\"] = 'Herramientas'\n",
    "df.loc[df.subcategoria == \"palillos modelar\", \"subcategoria\"] = 'Palillos y espatulas'\n",
    "df.loc[df.subcategoria == \"no tiene\", \"subcategoria\"] = 'Elementos protección'"
   ]
  },
  {
   "cell_type": "code",
   "execution_count": null,
   "metadata": {},
   "outputs": [],
   "source": [
    "df.loc[df['nombre'].str.contains('Vitrificable', case=False, na=False), 'subcategoria'] = 'Vitrificables'\n",
    "df.loc[df['nombre'].str.contains('Vitrificable', case=False, na=False), 'categoria'] = 'Óxidos colorantes'\n",
    "df.loc[df['nombre'].str.contains('Rotulador', case=False, na=False), 'subcategoria'] = 'Rotulador Cerámico'\n",
    "df.loc[df['nombre'].str.contains('Rotulador', case=False, na=False), 'categoria'] = 'Lápices/Tizas cerámicas'"
   ]
  },
  {
   "cell_type": "code",
   "execution_count": null,
   "metadata": {},
   "outputs": [],
   "source": [
    "df.loc[df['nombre'].str.contains('Pera', case=False, na=False), 'subcategoria'] = 'Peras y boquillas'\n",
    "df.loc[df['nombre'].str.contains('Tenazas', case=False, na=False), 'subcategoria'] = 'Compás / Tenazas'\n",
    "df.loc[df['nombre'].str.contains('Rodillo de amasar', case=False, na=False), 'subcategoria'] = 'Rodillo'\n",
    "df.loc[df['nombre'].str.contains('Cortador de barro', case=False, na=False), 'subcategoria'] = 'Cortador barro'\n",
    "df.loc[df['nombre'].str.contains('Balanza', case=False, na=False), 'subcategoria'] = 'Balanza'\n",
    "df.loc[df['nombre'].str.contains('Tamiz de metal', case=False, na=False), 'subcategoria'] = 'Tamiz / Cedazo'\n",
    "df.loc[df['nombre'].str.contains('Compás', case=False, na=False), 'subcategoria'] = 'Compás / Tenazas'"
   ]
  },
  {
   "cell_type": "code",
   "execution_count": 9,
   "metadata": {},
   "outputs": [],
   "source": [
    "df.to_csv(\"kadar.csv\", index=False)"
   ]
  }
 ],
 "metadata": {
  "kernelspec": {
   "display_name": "Python 3",
   "language": "python",
   "name": "python3"
  },
  "language_info": {
   "codemirror_mode": {
    "name": "ipython",
    "version": 3
   },
   "file_extension": ".py",
   "mimetype": "text/x-python",
   "name": "python",
   "nbconvert_exporter": "python",
   "pygments_lexer": "ipython3",
   "version": "3.12.3"
  }
 },
 "nbformat": 4,
 "nbformat_minor": 2
}
