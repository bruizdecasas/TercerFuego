{
 "cells": [
  {
   "cell_type": "code",
   "execution_count": 1,
   "metadata": {},
   "outputs": [],
   "source": [
    "import pandas as pd\n",
    "import numpy as np\n",
    "import os\n",
    "from sqlalchemy import create_engine\n",
    "from dotenv import load_dotenv\n",
    "load_dotenv()\n",
    "pd.options.display.max_columns = None"
   ]
  },
  {
   "cell_type": "code",
   "execution_count": 2,
   "metadata": {},
   "outputs": [],
   "source": [
    "#pip install cryptography\n",
    "#pip show pymysql"
   ]
  },
  {
   "cell_type": "code",
   "execution_count": 3,
   "metadata": {},
   "outputs": [],
   "source": [
    "df = pd.read_csv(\"productos.csv\")"
   ]
  },
  {
   "cell_type": "code",
   "execution_count": 4,
   "metadata": {},
   "outputs": [],
   "source": [
    "#defino los parámetros para la conexión desde el archivo .env\n",
    "username = os.getenv(\"username\")\n",
    "password = os.getenv(\"password\")\n",
    "host = os.getenv(\"host\")\n",
    "database = os.getenv(\"database\")\n",
    "\n",
    "# Crear la cadena de conexión\n",
    "connection_string = f'mysql+pymysql://{username}:{password}@{host}/{database}'\n",
    "engine = create_engine(connection_string)"
   ]
  },
  {
   "cell_type": "code",
   "execution_count": 5,
   "metadata": {},
   "outputs": [
    {
     "name": "stdout",
     "output_type": "stream",
     "text": [
      "<class 'pandas.core.frame.DataFrame'>\n",
      "RangeIndex: 3871 entries, 0 to 3870\n",
      "Data columns (total 11 columns):\n",
      " #   Column        Non-Null Count  Dtype  \n",
      "---  ------        --------------  -----  \n",
      " 0   categoria     3871 non-null   object \n",
      " 1   subcategoria  3871 non-null   object \n",
      " 2   nombre        3871 non-null   object \n",
      " 3   precio        3856 non-null   float64\n",
      " 4   url           3871 non-null   object \n",
      " 5   tienda        3871 non-null   object \n",
      " 6   peso          1463 non-null   object \n",
      " 7   chamota       49 non-null     object \n",
      " 8   tipo          181 non-null    object \n",
      " 9   capacidad     372 non-null    object \n",
      " 10  tamaño        532 non-null    object \n",
      "dtypes: float64(1), object(10)\n",
      "memory usage: 332.8+ KB\n"
     ]
    }
   ],
   "source": [
    "df.info()"
   ]
  },
  {
   "cell_type": "code",
   "execution_count": 6,
   "metadata": {},
   "outputs": [],
   "source": [
    "#añado las columnas que serán las claves primarias de mis tablas\n",
    "df['id_tienda'] = df.groupby('tienda').ngroup() + 1\n",
    "df['id_categoria'] = df.groupby('categoria').ngroup() + 1\n",
    "df['id_subcategoria'] = df.groupby('subcategoria').ngroup() + 1\n",
    "df['id_producto'] = df.groupby('nombre').ngroup() + 1"
   ]
  },
  {
   "cell_type": "code",
   "execution_count": 7,
   "metadata": {},
   "outputs": [],
   "source": [
    "# genero un dataframe por cada tabla que va a tener mi bbdd con las colunas que tendrá cada una\n",
    "df_tiendas = df[[\"id_tienda\", \"tienda\"]].drop_duplicates().reset_index(drop=True)\n",
    "df_categorias = df[[\"id_categoria\", \"categoria\"]].drop_duplicates().reset_index(drop=True)\n",
    "df_subcategorias = df[[\"id_subcategoria\", \"subcategoria\", \"id_categoria\"]].drop_duplicates().reset_index(drop=True)\n",
    "df_productos = df[[\"id_producto\", \"nombre\", \"precio\", \"url\", \"peso\", \"chamota\", \"tipo\", \"capacidad\", \"tamaño\",  \"id_categoria\", \"id_subcategoria\", \"id_tienda\"]].drop_duplicates().reset_index(drop=True)"
   ]
  },
  {
   "cell_type": "code",
   "execution_count": null,
   "metadata": {},
   "outputs": [],
   "source": [
    "# creo un diccionario para modificar los nombres de las columnas y hacer que coincidan con los que hay en la bbdd\n",
    "column_mapping = {\n",
    "    'id_categoria': 'id_categoria',\n",
    "    'categoria': 'nombre_categoria',\n",
    "}\n",
    "\n",
    "df_categorias = df_categorias.rename(columns=column_mapping)\n",
    "\n",
    "# Insertar los datos en la tabla 'categorias'\n",
    "df_categorias.to_sql(name='categorias', con=engine, if_exists='append', index=False)"
   ]
  },
  {
   "cell_type": "code",
   "execution_count": null,
   "metadata": {},
   "outputs": [
    {
     "data": {
      "text/plain": [
       "133"
      ]
     },
     "execution_count": 42,
     "metadata": {},
     "output_type": "execute_result"
    }
   ],
   "source": [
    "# creo un diccionario para modificar los nombres de las columnas y hacer que coincidan con los que hay en la bbdd\n",
    "df_subcategorias.drop_duplicates(subset=['id_subcategoria'], keep='first', inplace=True)\n",
    "column_mapping = {\n",
    "    'id_subcategoria': 'id_subcategoria',\n",
    "    'subcategoria': 'nombre_subcategoria',\n",
    "    'id_categoria': 'id_categoria'\n",
    "}\n",
    "\n",
    "df_subcategorias = df_subcategorias.rename(columns=column_mapping)\n",
    "\n",
    "# Insertar los datos en la tabla 'subcategorias'\n",
    "df_subcategorias.to_sql(name='subcategorias', con=engine, if_exists='append', index=False)"
   ]
  },
  {
   "cell_type": "code",
   "execution_count": null,
   "metadata": {},
   "outputs": [
    {
     "data": {
      "text/plain": [
       "3"
      ]
     },
     "execution_count": 44,
     "metadata": {},
     "output_type": "execute_result"
    }
   ],
   "source": [
    "# creo un diccionario para modificar los nombres de las columnas y hacer que coincidan con los que hay en la bbdd\n",
    "df_tiendas.drop_duplicates(subset=['id_tienda'], keep='first', inplace=True)\n",
    "column_mapping = {\n",
    "    'id_tienda': 'id_tienda',\n",
    "    'tienda': 'nombre_tienda'\n",
    "}\n",
    "\n",
    "df_tiendas = df_tiendas.rename(columns=column_mapping)\n",
    "\n",
    "# Insertar los datos en la tabla 'tiendas'\n",
    "df_tiendas.to_sql(name='tiendas', con=engine, if_exists='append', index=False)"
   ]
  },
  {
   "cell_type": "code",
   "execution_count": 46,
   "metadata": {},
   "outputs": [
    {
     "data": {
      "text/plain": [
       "3199"
      ]
     },
     "execution_count": 46,
     "metadata": {},
     "output_type": "execute_result"
    }
   ],
   "source": [
    "# creo un diccionario para modificar los nombres de las columnas y hacer que coincidan con los que hay en la bbdd\n",
    "df_productos.drop_duplicates(subset=['id_producto'], keep='first', inplace=True)\n",
    "\n",
    "column_mapping = {\n",
    "    'id_producto': 'id_producto',\n",
    "    'nombre': 'nombre_producto',\n",
    "    'precio': 'precio',\n",
    "    'url': 'url',\n",
    "    'peso': 'peso',\n",
    "    'chamota': 'chamota',\n",
    "    'tipo': 'tipo',\n",
    "    'capacidad': 'capacidad',\n",
    "    'tamaño': 'dimensiones',\n",
    "    'id_subcategoria': 'id_subcategoria',\n",
    "    'subcategoria': 'nombre_subcategoria',\n",
    "    'id_categoria': 'id_categoria'\n",
    "}\n",
    "\n",
    "df_productos = df_productos.rename(columns=column_mapping)\n",
    "\n",
    "# Insertar los datos en la tabla 'productos'\n",
    "df_productos.to_sql(name='productos', con=engine, if_exists='append', index=False)"
   ]
  }
 ],
 "metadata": {
  "kernelspec": {
   "display_name": "Python 3",
   "language": "python",
   "name": "python3"
  },
  "language_info": {
   "codemirror_mode": {
    "name": "ipython",
    "version": 3
   },
   "file_extension": ".py",
   "mimetype": "text/x-python",
   "name": "python",
   "nbconvert_exporter": "python",
   "pygments_lexer": "ipython3",
   "version": "3.12.3"
  }
 },
 "nbformat": 4,
 "nbformat_minor": 2
}
